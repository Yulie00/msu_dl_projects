{
 "cells": [
  {
   "cell_type": "markdown",
   "metadata": {},
   "source": [
    "# Полносвязные сети."
   ]
  },
  {
   "cell_type": "markdown",
   "metadata": {},
   "source": [
    "### Реализация нейронной сети"
   ]
  },
  {
   "cell_type": "code",
   "execution_count": 1,
   "metadata": {
    "ExecuteTime": {
     "end_time": "2022-09-19T20:11:47.235524Z",
     "start_time": "2022-09-19T20:11:45.725676Z"
    }
   },
   "outputs": [],
   "source": [
    "import torch\n",
    "\n",
    "import numpy as np"
   ]
  },
  {
   "cell_type": "markdown",
   "metadata": {},
   "source": [
    "Для того, чтобы реализовать свой блок, нужно, чтобы он был отнаследован от базового класса для всех нейронных сетей `torch.nn.Module`. \n",
    "\n",
    "Затем, для удобства и в соответствии с общепринятой практикой, модуль должен реализовывать функцию `forward`.  В этой функции обычно реализуют основную логику вычислений в модуле, так называемый *прямой проход* через слой. Pytorch использует функцию `forward` для переопределения магического метода класса `__call__`, что позволяет использовать следующий синтаксический сахар для вычисления прямого прохода:\n",
    "```python\n",
    "# Два эквивалентных способа делать прямой проход через блок:\n",
    "out = module(x)\n",
    "out = module.forward(x)\n",
    "```\n",
    "\n",
    "Нужно отметить, что блоки являются лишь удобной обёрткой для вычислений и создания графа автоматического дифференцирования."
   ]
  },
  {
   "cell_type": "markdown",
   "metadata": {},
   "source": [
    "Рассмотрим простейший пример модуля, который реализует **Тождественное преобразование**:"
   ]
  },
  {
   "cell_type": "code",
   "execution_count": 2,
   "metadata": {
    "ExecuteTime": {
     "end_time": "2022-09-19T20:11:47.242894Z",
     "start_time": "2022-09-19T20:11:47.237889Z"
    }
   },
   "outputs": [],
   "source": [
    "class Identity(torch.nn.Module):\n",
    "    def __init__(self):\n",
    "        '''\n",
    "        Конструктор блока. Здесь обычно создают обучаемые параметры и сохраняют переменные, \n",
    "            определяющие глобальное состояние слоя, а так же гиперпараметры\n",
    "        Блок, может содержать в себе подблоки, которые также были отнаследованы от базового класса torch.nn.Module\n",
    "        '''\n",
    "        # Необходимо вызвать конструктор базового класса для корректной работы блока\n",
    "        super().__init__()\n",
    "        \n",
    "    def forward(self, x: torch.Tensor) -> torch.Tensor:\n",
    "        '''\n",
    "        Функция, реализующая прямой проход через слой. В процессе вычислений создаётся граф вычислений\n",
    "            сквозь который выполняется автоматическое дифференцирование.\n",
    "        '''\n",
    "        return x\n",
    "    \n",
    "    def __repr__(self):\n",
    "        '''\n",
    "        Хорошей практикой является переопределение строкового представления для блоков\n",
    "        Обычно, помимо названия класса также выводят гиперпараметры данного экземпляра класса\n",
    "        '''\n",
    "        return 'Identity()'"
   ]
  },
  {
   "cell_type": "markdown",
   "metadata": {},
   "source": [
    "Создадим экземпляр данного слоя и проверим его работу:"
   ]
  },
  {
   "cell_type": "code",
   "execution_count": 3,
   "metadata": {
    "ExecuteTime": {
     "end_time": "2022-09-19T20:11:47.252631Z",
     "start_time": "2022-09-19T20:11:47.244679Z"
    }
   },
   "outputs": [
    {
     "name": "stdout",
     "output_type": "stream",
     "text": [
      "tensor([[-0.4651,  0.6992, -0.0341, -0.7960, -0.6720],\n",
      "        [ 1.0939,  0.4868,  0.5053, -1.2386, -0.5001],\n",
      "        [-1.9003, -0.0238,  1.3342, -0.0997, -2.6938]])\n",
      "tensor([[-0.4651,  0.6992, -0.0341, -0.7960, -0.6720],\n",
      "        [ 1.0939,  0.4868,  0.5053, -1.2386, -0.5001],\n",
      "        [-1.9003, -0.0238,  1.3342, -0.0997, -2.6938]])\n",
      "Identity() True\n"
     ]
    }
   ],
   "source": [
    "identity_layer = Identity()\n",
    "x = torch.randn([3, 5])\n",
    "\n",
    "# Обратите внимание, метод __call__ был автоматически переопределён через вызов метода forward\n",
    "print(x, identity_layer(x), sep='\\n')\n",
    "print(identity_layer, torch.equal(x, identity_layer(x)))"
   ]
  },
  {
   "cell_type": "markdown",
   "metadata": {},
   "source": [
    "### Слой нелинейности ReLU"
   ]
  },
  {
   "cell_type": "markdown",
   "metadata": {},
   "source": [
    "Теперь реализуем слой нелинейности $\\text{ReLU}(y) = \\max(0, y)$. Параметров у слоя нет. Метод `forward` должен вернуть результат поэлементного применения $\\text{ReLU}$ к входному массиву."
   ]
  },
  {
   "cell_type": "code",
   "execution_count": 4,
   "metadata": {
    "ExecuteTime": {
     "end_time": "2022-09-19T20:11:47.260473Z",
     "start_time": "2022-09-19T20:11:47.257096Z"
    }
   },
   "outputs": [],
   "source": [
    "class ReLU(torch.nn.Module):\n",
    "    def __init__(self):\n",
    "        '''\n",
    "        Слой ReLU поэлементно применяет rectified linear unit к своему входу\n",
    "        '''\n",
    "        super().__init__()\n",
    "    \n",
    "    def forward(self, x: torch.Tensor) -> torch.Tensor:\n",
    "        '''\n",
    "        Применяет ReLU ко входному тензору\n",
    "        '''\n",
    "        return torch.max(torch.zeros(x.size(), device=x.device), x)\n",
    "    \n",
    "    def __repr__(self):\n",
    "        return 'ReLU()'"
   ]
  },
  {
   "cell_type": "code",
   "execution_count": 5,
   "metadata": {
    "ExecuteTime": {
     "end_time": "2022-09-19T20:11:47.271673Z",
     "start_time": "2022-09-19T20:11:47.262814Z"
    }
   },
   "outputs": [
    {
     "name": "stdout",
     "output_type": "stream",
     "text": [
      "tensor([[ 0.7286,  1.0970,  0.1237, -0.0657, -0.0349],\n",
      "        [ 0.8399, -0.8287,  1.2334, -0.5982,  1.9541],\n",
      "        [-0.2940,  1.2510, -1.2569,  1.4967,  0.2792]])\n",
      "tensor([[0.7286, 1.0970, 0.1237, 0.0000, 0.0000],\n",
      "        [0.8399, 0.0000, 1.2334, 0.0000, 1.9541],\n",
      "        [0.0000, 1.2510, 0.0000, 1.4967, 0.2792]])\n",
      "ReLU()\n"
     ]
    }
   ],
   "source": [
    "relu_layer = ReLU()\n",
    "x = torch.randn([3, 5])\n",
    "\n",
    "assert not torch.any(relu_layer(x) < 0)\n",
    "assert torch.all(torch.eq(relu_layer(x), torch.nn.ReLU()(x)))\n",
    "\n",
    "print(x, relu_layer(x), sep='\\n')\n",
    "print(relu_layer)"
   ]
  },
  {
   "cell_type": "markdown",
   "metadata": {},
   "source": [
    "### Полносвязный слой"
   ]
  },
  {
   "cell_type": "markdown",
   "metadata": {},
   "source": [
    "Далее реализуем полносвязный слой без нелинейности `Linear`. У слоя два параметра: **матрица весов** и **вектор сдвига**. \n",
    "\n",
    "Основным преимуществом базового класса `torch.nn.Module` является наличие интерфейса работы с параметрами (обучаемые веса модели), буферами (необучаемые тензоры в модели) и подмодулями (то есть другие модули-наследники `torch.nn.Module`, которые в итоге создают иерархическую структуру модели).\n",
    "\n",
    "Если параметры/буферы/подмодули зарегистрированы в модуле, то базовый класс позволяет удобно работать с этими сущностями. Рассмотрим основные методы:\n",
    "* `parameters` — возвращает итератор по всем параметрам, зарегистрированным в данном модуле и всех его подмодулях\n",
    "* `named_parameters` — возвращает итератор по всем параметрам и их именам, зарегистрированным в данном модуле и всех его подмодулях\n",
    "* `buffers`/`named_buffers` — аналогичные функции для получения доступа к списку всех буферов\n",
    "* `requires_grad_(requires_grad=True)` — in-place метод, включающий или выключающий подсчёт градиентов для параметров\n",
    "* `to(device, dtype)` — изменение типа параметров и устройства на котором они располагаются\n",
    "* `train`/`eval` — рекурсивное переключение режимов работы модулей. Обычно, перед обучением сети необходимо вызвать метод `train`, а перед тестированием (инференсом) — перевести в режим `eval`. Данные методы необходимы для корректной реализации таких методов регуляризации как BatchNorm и Dropout\n",
    "\n",
    "\n",
    "Теперь рассмотрим процесс регистрации параметров/буферов/подмодулей.\n",
    "Существует два основных варианта регистрации:\n",
    "1. **Неявная регистрация**, которая происходит в момент создания атрибута класса и присваивания ему класса-обёртки для параметров `torch.nn.Parameter` (для регистрации параметров) или наследника `torch.nn.Module` (для регистрации подмодулей). Обратите внимание, что **присваивание тензора не приводит к регистрации параметра**. Также, стоит отметить, что нет неявного способа регистрации буферов\n",
    "2. **Явная регистрация** с использованием методов `register_parameter, register_buffer, register_module`.\n",
    "\n",
    "По умолчанию при написании кода стоит отдавать предпочтение *неявной регистрации*.\n",
    "\n",
    "Отдельно выделим частую ситуацию, в которой требуется зарегистрировать переменное (или просто достаточно большое число) параметров/подмодулей. Действительно, в современных моделях может быть десятки и сотни слоёв и тысячи тензоров-параметров, которые логично хранить в модели не в виде отдельных атрибутов, а в виде списка или словаря. Однако, сохранив параметры/подмодули в такую структуру данных, **неявная регистрация автоматически не сработает**. Чтобы обойти этот недостаток в **Pytorch** реализован набор контейнеров, которые при добавлении в них параметров будут производить их регистрацию в текущем блоке. Так, например, доступен контейнер для списка параметров `torch.nn.ParameterList` и контейнер для словаря параметров `torch.nn.ParameterDict`. Аналогичные [классы-контейнеры](https://pytorch.org/docs/stable/nn.html#containers) доступны и для модулей: `torch.nn.ModuleList`, `torch.nn.ModuleDict`. При реализации слоёв с фиксированным числом параметров (например, `Linear`) такие классы обычно не нужны."
   ]
  },
  {
   "cell_type": "markdown",
   "metadata": {},
   "source": [
    "Сразу обратим внимание на особо важный момент при работе с обучаемыми параметрами. Качество итоговой модели и процесс обучения может существенно зависеть от начальной инициализации параметров. Поэтому, **необходимо тщательно контролировать инициализацию**. В **Pytorch** общепринятым способом установки блока в исходное состояние является реализация метода `reset_parameters`, который выполняет правильную инициализацию обучаемых весов, отчищает буферы и так далее."
   ]
  },
  {
   "cell_type": "markdown",
   "metadata": {},
   "source": [
    "Реализуем блок линейного слоя."
   ]
  },
  {
   "cell_type": "code",
   "execution_count": 6,
   "metadata": {
    "ExecuteTime": {
     "end_time": "2022-09-19T20:11:47.280354Z",
     "start_time": "2022-09-19T20:11:47.273449Z"
    }
   },
   "outputs": [],
   "source": [
    "class Linear(torch.nn.Module):\n",
    "    def __init__(self, in_features, out_features):\n",
    "        '''\n",
    "        Полносвязный слой — это слой выполняющий аффинное преобразование f(x) = x W + b\n",
    "        '''\n",
    "        super().__init__()\n",
    "        \n",
    "        # Создайте необходимые обучаемые параметры\n",
    "        self.weight = torch.nn.Parameter(torch.empty([in_features, out_features]))\n",
    "        self.bias = torch.nn.Parameter(torch.empty([1, out_features]))\n",
    "        \n",
    "        # Выполните инициализацию весов\n",
    "        self.reset_parameters()\n",
    "        \n",
    "    def reset_parameters(self):\n",
    "        '''\n",
    "        Инициализация весов полносвязного слоя из нормального распределения с \n",
    "            нулевым средним и стандартным отклонением 0.01\n",
    "        Вектор-смещение инициализируется нулями\n",
    "        '''\n",
    "        torch.nn.init.normal_(self.weight, 0, 0.01)\n",
    "        torch.nn.init.zeros_(self.bias)\n",
    "\n",
    "    def forward(self, x: torch.Tensor) -> torch.Tensor:\n",
    "        '''\n",
    "        Выполнение аффинного преобразования f(x) = x W + b\n",
    "        \n",
    "        :param torch.Tensor x: входная матрица размера [batch_size, in_features]\n",
    "        :returns: матрица размера [batch_size, out_features]\n",
    "        '''\n",
    "        return x.matmul(self.weight) + self.bias\n",
    "    \n",
    "    def __repr__(self):\n",
    "        '''\n",
    "        Опциональный метод для красивого вывода\n",
    "        '''\n",
    "        return 'Linear({0:d}, {1:d})'.format(*self.weight.shape)"
   ]
  },
  {
   "cell_type": "code",
   "execution_count": 7,
   "metadata": {
    "ExecuteTime": {
     "end_time": "2022-09-19T20:11:47.304226Z",
     "start_time": "2022-09-19T20:11:47.283009Z"
    }
   },
   "outputs": [
    {
     "name": "stdout",
     "output_type": "stream",
     "text": [
      "tensor([[ 0.1121, -0.5725,  0.8260],\n",
      "        [ 0.2217,  1.4429, -0.4980]])\n",
      "tensor([[ 1.8062e-02,  6.7180e-05, -5.8614e-03,  3.8919e-03, -6.1252e-03],\n",
      "        [-2.4402e-02, -1.1804e-02, -5.5327e-03, -2.6364e-03,  7.5701e-03]],\n",
      "       grad_fn=<AddBackward0>)\n",
      "Linear(3, 5)\n"
     ]
    }
   ],
   "source": [
    "linear_layer = Linear(3, 5)\n",
    "x = torch.randn([2, 3])\n",
    "\n",
    "print(x, linear_layer(x), sep='\\n')\n",
    "print(linear_layer)"
   ]
  },
  {
   "cell_type": "markdown",
   "metadata": {},
   "source": [
    "Блоки-наследники `torch.nn.Module` автоматически сохраняют информацию о своей структуре: параметрах, буферах. Например, можно получить генератор всех параметров в данном блоке (метод `parameters`). Более того, каждый параметр имеет своё уникальное имя (обычно оно совпадает с названием переменной, в которую соответствующий параметр был присвоен). Именованный список параметров можно получить через вызов метода `named_parameters`:"
   ]
  },
  {
   "cell_type": "code",
   "execution_count": 8,
   "metadata": {
    "ExecuteTime": {
     "end_time": "2022-09-19T20:11:47.319703Z",
     "start_time": "2022-09-19T20:11:47.306197Z"
    }
   },
   "outputs": [
    {
     "data": {
      "text/plain": [
       "(Linear(3, 5),\n",
       " [Parameter containing:\n",
       "  tensor([[-0.0139, -0.0017, -0.0044, -0.0052, -0.0151],\n",
       "          [-0.0086, -0.0103, -0.0071,  0.0011,  0.0075],\n",
       "          [ 0.0178, -0.0068, -0.0114,  0.0062, -0.0001]], requires_grad=True),\n",
       "  Parameter containing:\n",
       "  tensor([[0., 0., 0., 0., 0.]], requires_grad=True)],\n",
       " [('weight',\n",
       "   Parameter containing:\n",
       "   tensor([[-0.0139, -0.0017, -0.0044, -0.0052, -0.0151],\n",
       "           [-0.0086, -0.0103, -0.0071,  0.0011,  0.0075],\n",
       "           [ 0.0178, -0.0068, -0.0114,  0.0062, -0.0001]], requires_grad=True)),\n",
       "  ('bias',\n",
       "   Parameter containing:\n",
       "   tensor([[0., 0., 0., 0., 0.]], requires_grad=True))])"
      ]
     },
     "execution_count": 8,
     "metadata": {},
     "output_type": "execute_result"
    }
   ],
   "source": [
    "linear_layer, list(linear_layer.parameters()), list(linear_layer.named_parameters())"
   ]
  },
  {
   "cell_type": "markdown",
   "metadata": {},
   "source": [
    "### Реализация Softmax-слоя и функции потерь"
   ]
  },
  {
   "cell_type": "markdown",
   "metadata": {},
   "source": [
    "Для решения задачи многоклассовой классификации обычно используют $Softmax$ в качестве нелинейности на последнем слое, чтобы получить вероятности классов для каждого объекта:\n",
    "$$\\hat y = \\text{Softmax}(x)  = \\left \\{\\frac {\\exp(x^i)}{\\sum_{j=1}^K \\exp(x^j)} \\right \\}_{i=1}^K, \\quad K - \\text{число классов.}$$\n",
    "\n",
    "Здесь за $x^i$ мы обозначаем $i$-ый признак объекта $x$.\n",
    "\n",
    "В качестве функции потерь выберем отрицательный логарифм правдоподобия (по-английски: negative log likelihood или NLL)\n",
    "$$L(y, \\hat y) = -\\sum_{i=1}^K \\mathbb{1}[y = i]\\log \\hat y^i,$$\n",
    "где $\\mathbb{1}[y = i]$ — индикатор принадлежности $i$-му классу.\n",
    "\n",
    "NLL совпадает с выражением для [кросс-энтропии](https://ru.wikipedia.org/wiki/Перекрёстная_энтропия) (в качестве первого распределения берем вырожденное распределение в точке $y$, в качестве второго — предсказанное распределение $\\hat y$). Очевидно, что эту функцию потерь также можно переписать через индексацию, если через $y$ обозначить класс данного объекта:\n",
    "$$L(y, \\hat y) = - \\log \\hat y_{y}$$\n",
    "\n",
    "В таком виде ее удобно реализовывать."
   ]
  },
  {
   "cell_type": "markdown",
   "metadata": {
    "ExecuteTime": {
     "end_time": "2021-03-03T13:13:02.970075Z",
     "start_time": "2021-03-03T13:13:02.961134Z"
    }
   },
   "source": [
    "Для обучения нейронной сети будем оптимизировать эту функцию потерь по параметрам нейронной сети:\n",
    "\n",
    "$$ \\mathfrak{L} = \\frac1N \\sum_{i=1}^N L(y_i, \\hat y_i) = \\frac1N \\sum_{i=1}^N L(y_i, \\text{NN}_{\\theta}(x_i)) \\rightarrow \\min_{\\theta}\\,,$$\n",
    "где за $x_i$ и $y_i$ мы обозначили признаки и таргет $i$-ого объекта обучающей выборки, за $\\text{NN}_{\\theta}$ мы обозначили нейронную сеть, которая по признакам объекта $x_i$ выдает распределение вероятностей $\\hat y_i$, за $\\theta$ мы обозначили все веса нейронной сети, а $N$ — это число объектов в обучающей выборке."
   ]
  },
  {
   "cell_type": "markdown",
   "metadata": {},
   "source": [
    "Реализуем функцию потерь `CrossEntropyLoss`. "
   ]
  },
  {
   "cell_type": "code",
   "execution_count": 9,
   "metadata": {
    "ExecuteTime": {
     "end_time": "2022-09-19T20:11:47.326714Z",
     "start_time": "2022-09-19T20:11:47.321510Z"
    }
   },
   "outputs": [],
   "source": [
    "class CrossEntropyLoss(torch.nn.Module):\n",
    "    def __init__(self):\n",
    "        super(CrossEntropyLoss, self).__init__()\n",
    "        \n",
    "    def forward(self, x: torch.Tensor, labels: torch.Tensor) -> torch.Tensor:\n",
    "        \"\"\"\n",
    "        Применение логсофтмакса к каждой строке, а затем выборка элементов в соответствии с метками истинного класса\n",
    "        :param torch.Tensor x: Матрица логитов размера [batch_size, n_classes]\n",
    "        :param torch.Tensor labels: Список меток истинного класса. Размер [batch_size]\n",
    "        :returns: Кросс-энтропийная функция потерь \n",
    "        \"\"\"\n",
    "        \n",
    "        batch_size, n_classes = x.size()\n",
    "\n",
    "        batch_max, _ = x.max(dim=1, keepdim=True)\n",
    "        logsumexp = (x - batch_max).exp().sum(dim=1, keepdim=True).log()\n",
    "        x = -(x - batch_max - logsumexp)\n",
    "        result = (torch.nn.functional.one_hot(labels, num_classes=n_classes) * x).sum()\n",
    "        return result / batch_size"
   ]
  },
  {
   "cell_type": "code",
   "execution_count": 10,
   "metadata": {
    "ExecuteTime": {
     "end_time": "2022-09-19T20:11:47.347624Z",
     "start_time": "2022-09-19T20:11:47.331416Z"
    }
   },
   "outputs": [
    {
     "name": "stdout",
     "output_type": "stream",
     "text": [
      "CrossEntropyLoss() tensor(4.5163)\n"
     ]
    }
   ],
   "source": [
    "cel_layer = CrossEntropyLoss()\n",
    "x = torch.randn([101, 51])\n",
    "labels = torch.randint(0, x.shape[1], size=[x.shape[0]])\n",
    "\n",
    "assert torch.abs(cel_layer(x, labels) - torch.nn.CrossEntropyLoss()(x, labels)) < 1e-6\n",
    "\n",
    "print(cel_layer, cel_layer(x, labels))"
   ]
  },
  {
   "cell_type": "markdown",
   "metadata": {},
   "source": [
    "## Сборка нейронной сети"
   ]
  },
  {
   "cell_type": "markdown",
   "metadata": {},
   "source": [
    "Реализуем полносвязную нейронную сеть `DenseNetwork`. \n",
    "\n",
    "Реализуйем следующие гиперпараметры сети:\n",
    "- ширина (то есть с заданный размер скрытых слоев `hidden_size`) \n",
    "- глубина (то есть с заданное количество слоев `n_layers`) \n",
    "- размер входа `in_features` и выхода `n_classes`\n",
    "- функция активации `activation` между линейными слоями\n"
   ]
  },
  {
   "cell_type": "code",
   "execution_count": 11,
   "metadata": {
    "ExecuteTime": {
     "end_time": "2022-09-19T20:11:47.356637Z",
     "start_time": "2022-09-19T20:11:47.349757Z"
    },
    "code_folding": []
   },
   "outputs": [],
   "source": [
    "class DenseNetwork(torch.nn.Module):\n",
    "    def __init__(self, in_features, hidden_size, n_classes, n_layers, activation=ReLU):\n",
    "        '''\n",
    "        :param int in_features: Число входных признаков\n",
    "        :param int hidden_size: Размер скрытых слоёв\n",
    "        :param int n_classes: Число выходов сети \n",
    "        :param int n_layers: Число слоёв в сети\n",
    "        :param torch.nn.Module activation: Класс функции активации\n",
    "        '''\n",
    "        super().__init__()\n",
    "\n",
    "        layers = []\n",
    "\n",
    "        if n_layers == 1:\n",
    "            layers.append(Linear(in_features, n_classes))\n",
    "        elif n_layers > 1:\n",
    "            layers.append(Linear(in_features, hidden_size))\n",
    "            for _ in range(n_layers - 2):\n",
    "                layers.append(activation())\n",
    "                layers.append(Linear(hidden_size, hidden_size))\n",
    "            \n",
    "            layers.append(activation())\n",
    "            layers.append(Linear(hidden_size, n_classes))\n",
    "\n",
    "        self.layers = torch.nn.Sequential(*layers)\n",
    "        \n",
    "        \n",
    "    def forward(self, x: torch.Tensor) -> torch.Tensor:\n",
    "        '''\n",
    "        Прямой проход по сети\n",
    "        :param torch.Tensor x: Входной тензор размера [batch_size, in_features]\n",
    "        :returns: Матрица логитов размера [batch_size, n_classes]\n",
    "        '''\n",
    "        return self.layers(x)"
   ]
  },
  {
   "cell_type": "markdown",
   "metadata": {},
   "source": [
    "Проверьте, что ваша реализация сети проходит минимальные тесты:"
   ]
  },
  {
   "cell_type": "code",
   "execution_count": 12,
   "metadata": {
    "ExecuteTime": {
     "end_time": "2022-09-19T20:11:47.364849Z",
     "start_time": "2022-09-19T20:11:47.358513Z"
    }
   },
   "outputs": [],
   "source": [
    "assert sum(buffer.numel() for buffer in DenseNetwork(11, 7, 5, 3).buffers()) == 0\n",
    "assert sum(param.numel() for param in DenseNetwork(64, 32, 10, 3).parameters()) == 3466\n",
    "\n",
    "assert list(DenseNetwork(64, 32, 10, 3)(torch.randn([13, 64])).shape) == [13, 10]"
   ]
  },
  {
   "cell_type": "code",
   "execution_count": 13,
   "metadata": {
    "ExecuteTime": {
     "end_time": "2022-09-19T20:11:47.373142Z",
     "start_time": "2022-09-19T20:11:47.366997Z"
    }
   },
   "outputs": [
    {
     "name": "stdout",
     "output_type": "stream",
     "text": [
      "tensor([[ 5.9526e-05,  1.3952e-04,  1.0316e-05,  3.8325e-05,  2.5308e-06,\n",
      "          2.0495e-04,  3.7702e-05,  1.0146e-04, -2.1227e-05, -2.4045e-05],\n",
      "        [-1.5716e-04,  1.3353e-04,  1.0641e-04,  1.7195e-04,  2.0826e-05,\n",
      "          7.9813e-05, -1.6895e-04,  1.9004e-04,  1.0983e-04,  8.8268e-07],\n",
      "        [-1.6865e-04, -8.0097e-05, -9.0751e-06,  1.5689e-04, -7.7061e-06,\n",
      "          1.9575e-04,  4.3735e-05,  3.5866e-04,  1.4078e-04,  7.3577e-06],\n",
      "        [-6.9385e-05, -3.5162e-05, -6.0335e-05,  1.9778e-04,  5.6223e-05,\n",
      "          3.7297e-05, -3.2068e-04,  3.2894e-04,  1.4550e-04, -8.7242e-07],\n",
      "        [ 2.3996e-04,  6.4358e-05, -8.7267e-05,  2.9871e-06, -8.4052e-05,\n",
      "          1.8662e-04,  4.9945e-05,  3.1213e-04, -1.0277e-04,  1.6440e-04]],\n",
      "       grad_fn=<AddBackward0>)\n",
      "DenseNetwork(\n",
      "  (layers): Sequential(\n",
      "    (0): Linear(64, 32)\n",
      "    (1): ReLU()\n",
      "    (2): Linear(32, 32)\n",
      "    (3): ReLU()\n",
      "    (4): Linear(32, 10)\n",
      "  )\n",
      ")\n"
     ]
    }
   ],
   "source": [
    "in_features = np.prod(8 * 8 * 1)\n",
    "hidden_size = 32\n",
    "n_classes = 10\n",
    "\n",
    "dense_network = DenseNetwork(\n",
    "    in_features=in_features, hidden_size=hidden_size, \n",
    "    n_classes=n_classes, n_layers=3, activation=ReLU\n",
    ")\n",
    "x = torch.randn([5, in_features])\n",
    "print(dense_network(x))\n",
    "print(dense_network)"
   ]
  },
  {
   "cell_type": "code",
   "execution_count": 14,
   "metadata": {
    "ExecuteTime": {
     "end_time": "2022-09-19T20:11:47.387244Z",
     "start_time": "2022-09-19T20:11:47.374916Z"
    }
   },
   "outputs": [
    {
     "data": {
      "text/plain": [
       "[Parameter containing:\n",
       " tensor([[-0.0015,  0.0124, -0.0074,  ..., -0.0030,  0.0194, -0.0033],\n",
       "         [-0.0053,  0.0062, -0.0071,  ..., -0.0014,  0.0020, -0.0091],\n",
       "         [ 0.0094, -0.0183, -0.0030,  ..., -0.0070, -0.0089,  0.0104],\n",
       "         ...,\n",
       "         [ 0.0030,  0.0145,  0.0091,  ..., -0.0140,  0.0010, -0.0008],\n",
       "         [-0.0067, -0.0052,  0.0330,  ..., -0.0043,  0.0093, -0.0085],\n",
       "         [ 0.0016, -0.0144,  0.0083,  ...,  0.0013,  0.0204, -0.0070]],\n",
       "        requires_grad=True),\n",
       " Parameter containing:\n",
       " tensor([[0., 0., 0., 0., 0., 0., 0., 0., 0., 0., 0., 0., 0., 0., 0., 0., 0., 0., 0., 0., 0., 0., 0., 0.,\n",
       "          0., 0., 0., 0., 0., 0., 0., 0.]], requires_grad=True),\n",
       " Parameter containing:\n",
       " tensor([[ 0.0046, -0.0023,  0.0128,  ...,  0.0285,  0.0127, -0.0126],\n",
       "         [-0.0175, -0.0125,  0.0029,  ...,  0.0005, -0.0035, -0.0175],\n",
       "         [-0.0061,  0.0063, -0.0100,  ..., -0.0074,  0.0099, -0.0006],\n",
       "         ...,\n",
       "         [ 0.0125, -0.0028,  0.0011,  ..., -0.0061, -0.0038, -0.0111],\n",
       "         [-0.0066, -0.0017, -0.0083,  ...,  0.0032, -0.0229, -0.0036],\n",
       "         [-0.0029,  0.0071, -0.0015,  ..., -0.0079, -0.0166,  0.0128]],\n",
       "        requires_grad=True),\n",
       " Parameter containing:\n",
       " tensor([[0., 0., 0., 0., 0., 0., 0., 0., 0., 0., 0., 0., 0., 0., 0., 0., 0., 0., 0., 0., 0., 0., 0., 0.,\n",
       "          0., 0., 0., 0., 0., 0., 0., 0.]], requires_grad=True),\n",
       " Parameter containing:\n",
       " tensor([[ 4.9479e-03,  1.2878e-02,  2.3732e-03, -9.4398e-03,  1.4030e-03,\n",
       "          -5.3938e-03,  8.5960e-03, -5.2375e-03,  3.6665e-03,  2.3628e-04],\n",
       "         [ 5.3461e-03,  1.7539e-03,  1.6168e-02,  3.6633e-03, -7.7590e-03,\n",
       "           5.9374e-03,  2.2507e-03,  1.1512e-02,  7.0250e-03,  9.3124e-03],\n",
       "         [-3.7577e-03,  8.1189e-03,  5.6530e-03,  1.3649e-02, -8.5482e-03,\n",
       "          -1.3745e-02, -2.3290e-02,  1.3680e-02, -1.1803e-02, -1.3333e-02],\n",
       "         [-5.2793e-03,  7.4848e-03,  8.0663e-03, -4.8568e-03, -1.4488e-02,\n",
       "           2.1056e-03, -4.4891e-03, -1.6463e-02,  9.6532e-03,  7.0319e-03],\n",
       "         [ 1.1381e-02,  1.0386e-02, -8.0636e-03,  1.3587e-02,  3.9270e-03,\n",
       "          -6.1524e-03,  7.1809e-04, -8.2186e-03,  2.4864e-03, -1.0817e-02],\n",
       "         [ 1.1714e-02, -7.7191e-03,  2.9459e-03,  6.0075e-04,  5.3596e-03,\n",
       "          -7.2064e-03, -1.8231e-03,  3.0090e-03,  1.9972e-02,  7.5096e-03],\n",
       "         [-7.5342e-03,  5.9867e-03, -2.6630e-03,  2.3429e-03, -1.5964e-02,\n",
       "           1.9369e-02,  2.8634e-03, -8.6771e-03,  4.9315e-03,  2.3698e-03],\n",
       "         [ 5.3411e-03, -1.1255e-02, -6.4272e-04, -9.8076e-03, -4.2348e-03,\n",
       "           2.3339e-02, -3.5212e-03,  2.3928e-03,  6.7783e-04, -4.7856e-03],\n",
       "         [ 2.7267e-03, -1.3689e-02, -7.0005e-03,  3.0829e-03, -9.6113e-03,\n",
       "          -5.3212e-03,  6.7649e-04,  5.9304e-03,  1.4384e-02, -1.0520e-02],\n",
       "         [ 1.3351e-02,  7.2410e-03,  8.7347e-03, -6.3327e-03, -4.0348e-03,\n",
       "           2.6940e-02,  1.5172e-03,  1.4768e-02, -5.4386e-03, -2.3296e-03],\n",
       "         [-3.9767e-03,  1.5295e-02, -2.4991e-02,  9.2923e-03, -1.5571e-03,\n",
       "           6.8594e-03, -7.4443e-03,  1.5405e-02, -6.7950e-03,  9.2812e-04],\n",
       "         [ 2.6536e-03, -3.2611e-03, -1.8628e-03, -6.7845e-03, -5.7895e-03,\n",
       "          -8.4701e-03,  2.0561e-03, -5.7552e-03, -1.4115e-02,  2.9196e-02],\n",
       "         [ 8.6416e-03,  8.9821e-03, -5.3807e-03,  5.7947e-04, -4.0487e-03,\n",
       "           3.3577e-03, -5.7325e-03,  3.0293e-03, -8.4997e-03, -2.8333e-03],\n",
       "         [ 4.8671e-03,  1.5500e-02, -2.4700e-03, -4.5541e-03,  1.3703e-02,\n",
       "          -8.9492e-03, -4.5422e-03,  7.2744e-03, -1.0736e-02,  1.0707e-03],\n",
       "         [-9.3616e-03, -1.0608e-02, -7.3690e-03, -4.1814e-05, -6.7830e-03,\n",
       "           1.3725e-02,  3.3567e-03, -4.1927e-06,  1.0135e-02, -6.6905e-04],\n",
       "         [-1.2795e-02,  1.3206e-02,  2.3980e-03,  2.0333e-02,  9.2261e-03,\n",
       "           1.2357e-02, -1.1359e-02,  1.1311e-02, -3.1485e-03,  9.0975e-03],\n",
       "         [-8.5586e-03, -4.7443e-03, -5.4159e-03,  1.5524e-02,  3.7380e-04,\n",
       "          -1.0660e-02,  1.1335e-02,  5.3362e-03,  2.0059e-04,  8.8160e-03],\n",
       "         [ 1.0406e-02, -1.6715e-02,  1.8541e-03,  3.9066e-03, -6.6430e-03,\n",
       "           9.6107e-03,  2.3001e-02,  2.1495e-03, -1.3083e-02, -5.8036e-03],\n",
       "         [ 1.1489e-02, -2.3019e-03,  6.2482e-03,  5.2104e-03, -1.1546e-02,\n",
       "          -7.6635e-03, -1.8872e-03,  2.5030e-02, -7.2056e-03,  1.6530e-02],\n",
       "         [-4.1250e-03,  1.7591e-02,  1.1384e-02,  4.7376e-03,  6.2661e-04,\n",
       "           3.5534e-03,  6.1009e-03, -5.4191e-03,  4.6946e-03,  1.1050e-02],\n",
       "         [ 6.8186e-03,  7.9564e-03, -7.8554e-03,  6.7039e-03,  1.4252e-02,\n",
       "          -7.1894e-03, -2.0081e-02, -5.3846e-03,  6.5767e-03,  8.6126e-03],\n",
       "         [ 4.1122e-04, -5.2243e-03,  6.1346e-04,  8.4956e-03, -2.9285e-03,\n",
       "           1.2540e-02,  1.0402e-02,  1.4571e-02, -4.3953e-03,  1.9902e-03],\n",
       "         [ 1.1090e-02,  3.7069e-03, -5.1749e-03, -1.3059e-02,  1.0807e-02,\n",
       "           5.5010e-03,  1.4406e-04,  1.3794e-03, -7.0249e-03, -9.1273e-03],\n",
       "         [-3.6233e-03, -1.1137e-02,  4.8931e-03,  5.8699e-03,  7.9458e-03,\n",
       "           8.6180e-03, -1.4010e-02,  2.6026e-02, -1.1743e-02, -2.1067e-03],\n",
       "         [ 4.0265e-03, -6.8943e-03,  1.0098e-02, -1.4178e-02, -6.0838e-03,\n",
       "          -2.6763e-03,  1.6771e-02,  1.5408e-03, -4.5395e-03,  4.9937e-03],\n",
       "         [ 2.3223e-03,  3.4077e-03, -3.3037e-03,  4.5474e-03, -1.2071e-02,\n",
       "          -5.2806e-03,  1.0315e-03,  5.0982e-03, -2.4151e-03, -3.2335e-03],\n",
       "         [-3.6366e-03, -3.9128e-03, -1.3190e-03,  5.7785e-03,  7.7150e-04,\n",
       "           1.2114e-02, -4.6050e-03,  8.5685e-03,  8.4389e-03, -6.7648e-03],\n",
       "         [-1.5280e-02, -7.4489e-03, -8.9647e-03,  8.8769e-03,  8.9779e-03,\n",
       "          -1.4271e-02, -2.6432e-02, -6.9723e-04,  1.9498e-02, -7.2909e-03],\n",
       "         [ 5.3555e-03,  8.5945e-04,  1.7618e-03,  3.0808e-03, -4.1850e-03,\n",
       "          -1.5266e-02, -1.4273e-03, -9.6493e-04,  4.4137e-03,  1.3367e-02],\n",
       "         [-5.5859e-03, -8.9849e-03,  1.8119e-03, -6.8941e-03,  4.0428e-04,\n",
       "           1.1251e-02,  2.6487e-03,  4.6477e-03,  1.3364e-02, -2.2275e-02],\n",
       "         [-3.1190e-03, -5.7898e-03, -1.6410e-02, -8.7637e-03,  2.0207e-03,\n",
       "          -1.4342e-03,  1.6253e-02, -5.4337e-03, -1.6133e-03, -8.2559e-03],\n",
       "         [-4.6063e-03, -1.4505e-02,  1.7392e-02,  1.4822e-02,  6.7393e-03,\n",
       "           3.5453e-03, -8.3473e-03, -2.6826e-03, -1.3484e-02, -1.3482e-02]],\n",
       "        requires_grad=True),\n",
       " Parameter containing:\n",
       " tensor([[0., 0., 0., 0., 0., 0., 0., 0., 0., 0.]], requires_grad=True)]"
      ]
     },
     "execution_count": 14,
     "metadata": {},
     "output_type": "execute_result"
    }
   ],
   "source": [
    "list(dense_network.parameters())"
   ]
  },
  {
   "cell_type": "markdown",
   "metadata": {},
   "source": [
    "## Загрузка и предобработка данных"
   ]
  },
  {
   "cell_type": "code",
   "execution_count": 15,
   "metadata": {
    "ExecuteTime": {
     "end_time": "2022-09-19T20:11:48.251531Z",
     "start_time": "2022-09-19T20:11:47.388999Z"
    }
   },
   "outputs": [],
   "source": [
    "import matplotlib.pyplot as plt\n",
    "\n",
    "%matplotlib inline"
   ]
  },
  {
   "cell_type": "markdown",
   "metadata": {},
   "source": [
    "Мы реализовали все архитектурные составляющие нашей нейронной сети. Осталось загрузить данные и обучить модель. Мы будем работать с датасетом [`Digits`](https://archive.ics.uci.edu/ml/datasets/Optical+Recognition+of+Handwritten+Digits), каждый объект в котором — это изображение рукописной цифры размером $8 \\times 8$. Задачей нашей модели будет *классификация* данных изображений."
   ]
  },
  {
   "cell_type": "markdown",
   "metadata": {},
   "source": [
    "Загрузим данные и преобразуем их в тензоры:"
   ]
  },
  {
   "cell_type": "code",
   "execution_count": 16,
   "metadata": {
    "ExecuteTime": {
     "end_time": "2022-09-19T20:11:52.563266Z",
     "start_time": "2022-09-19T20:11:48.253344Z"
    }
   },
   "outputs": [],
   "source": [
    "from sklearn.datasets import load_digits\n",
    "from sklearn.model_selection import train_test_split"
   ]
  },
  {
   "cell_type": "code",
   "execution_count": 17,
   "metadata": {
    "ExecuteTime": {
     "end_time": "2022-09-19T20:11:52.637096Z",
     "start_time": "2022-09-19T20:11:52.564861Z"
    }
   },
   "outputs": [],
   "source": [
    "X, y = load_digits(return_X_y=True)"
   ]
  },
  {
   "cell_type": "markdown",
   "metadata": {
    "ExecuteTime": {
     "end_time": "2022-09-02T00:35:58.380930Z",
     "start_time": "2022-09-02T00:35:58.375930Z"
    }
   },
   "source": [
    "Разделите данные на обучение и контроль в пропорции $1$ к $3$ и преобразуйте их в тензоры:"
   ]
  },
  {
   "cell_type": "code",
   "execution_count": 18,
   "metadata": {
    "ExecuteTime": {
     "end_time": "2022-09-19T20:11:52.644936Z",
     "start_time": "2022-09-19T20:11:52.639015Z"
    }
   },
   "outputs": [],
   "source": [
    "### your code here\n",
    "X_train, X_test, y_train, y_test = map(torch.Tensor, train_test_split(X, y, test_size=0.25, random_state=42))"
   ]
  },
  {
   "cell_type": "code",
   "execution_count": 19,
   "metadata": {
    "ExecuteTime": {
     "end_time": "2022-09-19T20:11:52.649072Z",
     "start_time": "2022-09-19T20:11:52.646234Z"
    }
   },
   "outputs": [
    {
     "name": "stdout",
     "output_type": "stream",
     "text": [
      "torch.Size([1347, 64]) torch.Size([450, 64]) torch.Size([1347]) torch.Size([450])\n"
     ]
    }
   ],
   "source": [
    "print(X_train.shape, X_test.shape, y_train.shape, y_test.shape)"
   ]
  },
  {
   "cell_type": "markdown",
   "metadata": {
    "ExecuteTime": {
     "end_time": "2022-09-02T00:42:36.674373Z",
     "start_time": "2022-09-02T00:42:36.662374Z"
    }
   },
   "source": [
    "Нарисуем несколько объектов из выборки:"
   ]
  },
  {
   "cell_type": "code",
   "execution_count": 20,
   "metadata": {
    "ExecuteTime": {
     "end_time": "2022-09-19T20:25:35.354282Z",
     "start_time": "2022-09-19T20:25:34.812815Z"
    }
   },
   "outputs": [
    {
     "data": {
      "image/png": "[encoded data removed]",
      "text/plain": [
       "<Figure size 1000x500 with 8 Axes>"
      ]
     },
     "metadata": {},
     "output_type": "display_data"
    }
   ],
   "source": [
    "fig, axes = plt.subplots(2, 4, figsize=(10, 5))\n",
    "\n",
    "for idx, ds in enumerate(((X_train, y_train), (X_test, y_test))):\n",
    "    for jdx, kdx in enumerate(np.random.randint(0, len(ds[0]), size=4)):\n",
    "        image, label = ds[0][kdx], ds[1][kdx]\n",
    "        axes[idx, jdx].imshow(image.reshape([8, 8]).numpy(), cmap='gray')\n",
    "        axes[idx, jdx].set_title(f'Метка класса: {label}')\n",
    "        \n",
    "axes[0, 0].set_ylabel('Обучающая выборка')\n",
    "axes[1, 0].set_ylabel('Тестовая выборка')\n",
    "\n",
    "fig.tight_layout()\n",
    "plt.show()"
   ]
  },
  {
   "cell_type": "markdown",
   "metadata": {},
   "source": [
    "## Обучение нейронной сети. "
   ]
  },
  {
   "cell_type": "markdown",
   "metadata": {},
   "source": [
    "   \n",
    "Воспользуемся оптимизатором **LBFGS**."
   ]
  },
  {
   "cell_type": "markdown",
   "metadata": {
    "ExecuteTime": {
     "end_time": "2022-08-16T20:25:27.514076Z",
     "start_time": "2022-08-16T20:25:27.511075Z"
    }
   },
   "source": [
    "Создадим нейросеть, оптимизатор, а также класс-функцию потерь:"
   ]
  },
  {
   "cell_type": "code",
   "execution_count": 21,
   "metadata": {
    "ExecuteTime": {
     "end_time": "2022-09-19T20:11:53.257969Z",
     "start_time": "2022-09-19T20:11:53.253397Z"
    }
   },
   "outputs": [],
   "source": [
    "dense_network = DenseNetwork(\n",
    "    in_features=in_features, hidden_size=hidden_size, \n",
    "    n_classes=n_classes, n_layers=3, activation=ReLU\n",
    ")\n",
    "\n",
    "optimizer = torch.optim.LBFGS(dense_network.parameters(), max_iter=1)\n",
    "\n",
    "loss_fn = CrossEntropyLoss()"
   ]
  },
  {
   "cell_type": "code",
   "execution_count": 22,
   "metadata": {
    "ExecuteTime": {
     "end_time": "2022-09-19T20:11:53.262937Z",
     "start_time": "2022-09-19T20:11:53.259422Z"
    }
   },
   "outputs": [
    {
     "data": {
      "text/plain": [
       "(DenseNetwork(\n",
       "   (layers): Sequential(\n",
       "     (0): Linear(64, 32)\n",
       "     (1): ReLU()\n",
       "     (2): Linear(32, 32)\n",
       "     (3): ReLU()\n",
       "     (4): Linear(32, 10)\n",
       "   )\n",
       " ),\n",
       " LBFGS (\n",
       " Parameter Group 0\n",
       "     history_size: 100\n",
       "     line_search_fn: None\n",
       "     lr: 1\n",
       "     max_eval: 1\n",
       "     max_iter: 1\n",
       "     tolerance_change: 1e-09\n",
       "     tolerance_grad: 1e-07\n",
       " ),\n",
       " CrossEntropyLoss())"
      ]
     },
     "execution_count": 22,
     "metadata": {},
     "output_type": "execute_result"
    }
   ],
   "source": [
    "dense_network, optimizer, loss_fn"
   ]
  },
  {
   "cell_type": "code",
   "execution_count": 23,
   "metadata": {
    "ExecuteTime": {
     "end_time": "2022-09-19T20:11:53.267369Z",
     "start_time": "2022-09-19T20:11:53.264602Z"
    }
   },
   "outputs": [
    {
     "name": "stdout",
     "output_type": "stream",
     "text": [
      "<class 'torch.device'> cuda:0\n"
     ]
    }
   ],
   "source": [
    "device = torch.device('cpu')\n",
    "if torch.cuda.is_available():\n",
    "    device = torch.device('cuda', 0)\n",
    "    \n",
    "print(type(device), device)"
   ]
  },
  {
   "cell_type": "markdown",
   "metadata": {},
   "source": [
    "Для переноса всех параметров модели на нужное устройство можно использовать метод `to`:"
   ]
  },
  {
   "cell_type": "code",
   "execution_count": 24,
   "metadata": {
    "ExecuteTime": {
     "end_time": "2022-09-19T20:11:53.273501Z",
     "start_time": "2022-09-19T20:11:53.268696Z"
    }
   },
   "outputs": [
    {
     "data": {
      "text/plain": [
       "(DenseNetwork(\n",
       "   (layers): Sequential(\n",
       "     (0): Linear(64, 32)\n",
       "     (1): ReLU()\n",
       "     (2): Linear(32, 32)\n",
       "     (3): ReLU()\n",
       "     (4): Linear(32, 10)\n",
       "   )\n",
       " ),\n",
       " Parameter containing:\n",
       " tensor([[-1.1055e-02, -1.2801e-02, -7.3141e-05,  ..., -1.1406e-02,\n",
       "          -2.1945e-02, -8.2621e-03],\n",
       "         [-6.7038e-03,  6.5798e-04, -2.0033e-03,  ...,  1.7620e-02,\n",
       "           2.6597e-02, -2.8059e-03],\n",
       "         [-1.0920e-02,  5.5160e-05, -4.8099e-03,  ...,  5.0270e-03,\n",
       "          -1.1417e-03, -4.1453e-03],\n",
       "         ...,\n",
       "         [-9.0527e-03, -1.5621e-02,  1.0084e-02,  ...,  1.4161e-02,\n",
       "           2.6204e-03,  1.2422e-02],\n",
       "         [-1.6499e-02,  1.5302e-03, -7.2819e-03,  ..., -1.3066e-02,\n",
       "           2.1711e-03,  1.7817e-02],\n",
       "         [ 1.4838e-02, -4.5185e-03,  6.9669e-03,  ..., -7.3850e-03,\n",
       "          -7.1588e-03, -1.9867e-02]], device='cuda:0', requires_grad=True))"
      ]
     },
     "execution_count": 24,
     "metadata": {},
     "output_type": "execute_result"
    }
   ],
   "source": [
    "dense_network.to(device), next(iter(dense_network.parameters()))"
   ]
  },
  {
   "cell_type": "code",
   "execution_count": 25,
   "metadata": {},
   "outputs": [],
   "source": [
    "X_train = X_train.to(device)\n",
    "y_train = y_train.to(device).to(torch.long)\n",
    "X_test = X_test.to(device)\n",
    "y_test = y_test.to(device).to(torch.long)"
   ]
  },
  {
   "cell_type": "markdown",
   "metadata": {},
   "source": [
    "Теперь, осталось только реализовать цикл оптимизации и подсчёт метрик. \n",
    "\n",
    "Реализуйте цикл обучения модели в функции `training_loop`:"
   ]
  },
  {
   "cell_type": "code",
   "execution_count": 26,
   "metadata": {
    "ExecuteTime": {
     "end_time": "2022-09-19T20:11:53.286069Z",
     "start_time": "2022-09-19T20:11:53.275076Z"
    }
   },
   "outputs": [],
   "source": [
    "from typing import Callable, Tuple\n",
    "import tqdm.notebook as tqdm\n",
    "\n",
    "def training_loop(n_epochs: int, network: torch.nn.Module, loss_fn: torch.nn.Module, optimizer: torch.optim.Optimizer,\n",
    "                    ds_train: Tuple[torch.Tensor, torch.Tensor], ds_test: Tuple[torch.Tensor, torch.Tensor], device: torch.device,\n",
    "                    log = False):\n",
    "    '''\n",
    "    :param int n_epochs: Число итераций оптимизации\n",
    "    :param torch.nn.Module network: Нейронная сеть\n",
    "    :param Callable loss_fn: Функция потерь\n",
    "    :param torch.optim.Optimizer optimizer: Оптимизатор\n",
    "    :param Tuple[torch.Tensor, torch.Tensor] ds_train: Признаки и метки истинного класса обучающей выборки\n",
    "    :param Tuple[torch.Tensor, torch.Tensor] ds_test: Признаки и метки истинного класса тестовой выборки\n",
    "    :param torch.Device device: Устройство на котором будут происходить вычисления\n",
    "    :returns: Списки значений функции потерь и точности на обучающей и тестовой выборках после каждой итерации\n",
    "    '''\n",
    "    train_losses, test_losses, train_accuracies, test_accuracies = [], [], [], []\n",
    "    for epoch in tqdm.tqdm(range(n_epochs), total=n_epochs, leave=True):\n",
    "        # Переводим сеть в режим обучения\n",
    "        network.train()\n",
    "\n",
    "        # Итерация обучения сети\n",
    "        def closure():\n",
    "            '''\n",
    "            Функция-замыкания для подсчёта градиентов функции потерь по обучающей выборке:\n",
    "                1. Отчистка текущих градиентов\n",
    "                2. Выполнение прямого прохода по сети в вычисление функции потерь\n",
    "                3. Вычисление градиентов функции потерь\n",
    "            :returns: Значение функции потерь\n",
    "            '''\n",
    "            optimizer.zero_grad()\n",
    "            output = network(ds_train[0])\n",
    "            loss = loss_fn(output, ds_train[1])\n",
    "            loss.backward()\n",
    "            return loss\n",
    "        \n",
    "        # Шаг оптимизации\n",
    "        optimizer.step(closure)\n",
    "        \n",
    "        # Переводим сеть в инференс режим\n",
    "        network.eval()\n",
    "\n",
    "        # При тестировании сети нет необходимости считать градиенты, поэтому можно отключить автоматическое дифференцирование\n",
    "        #   для ускорения операций\n",
    "        with torch.no_grad():\n",
    "            # Вычисление качества и функции потерь на обучающей выборке\n",
    "            output_train = network(ds_train[0])\n",
    "            train_loss = loss_fn(output_train, ds_train[1])\n",
    "            train_acc = (output_train.argmax(dim=1) == ds_train[1]).sum() / len(ds_train[1])\n",
    "            train_losses.append(train_loss.cpu())\n",
    "            train_accuracies.append(train_acc.cpu())\n",
    "            \n",
    "            # Вычисление качества и функции потерь на тестовой выборке\n",
    "            output_test = network(ds_test[0])\n",
    "            test_loss = loss_fn(output_test, ds_test[1])\n",
    "            test_acc = (output_test.argmax(dim=1) == ds_test[1]).sum() / len(ds_test[1])\n",
    "            test_losses.append(test_loss.cpu())\n",
    "            test_accuracies.append(test_acc.cpu())\n",
    "            \n",
    "            if epoch % 20 == 0 and log:\n",
    "                print(\n",
    "                    'Loss (Train/Test): {0:.3f}/{1:.3f}. Accuracy, % (Train/Test): {2:.2f}/{3:.2f}'.format(\n",
    "                        train_losses[-1], test_losses[-1], train_accuracies[-1], test_accuracies[-1]\n",
    "                    )\n",
    "                )\n",
    "            \n",
    "    return train_losses, test_losses, train_accuracies, test_accuracies"
   ]
  },
  {
   "cell_type": "markdown",
   "metadata": {},
   "source": [
    "Обучим сеть. Во всех экспериментах обучайте сеть $200$ эпох с параметром `max_iter=1` в оптимизаторе."
   ]
  },
  {
   "cell_type": "code",
   "execution_count": 27,
   "metadata": {
    "ExecuteTime": {
     "end_time": "2022-09-19T20:11:54.261643Z",
     "start_time": "2022-09-19T20:11:53.287755Z"
    }
   },
   "outputs": [
    {
     "data": {
      "application/vnd.jupyter.widget-view+json": {
       "model_id": "e08d6cdcd66c41c5a17bce916a6155c1",
       "version_major": 2,
       "version_minor": 0
      },
      "text/plain": [
       "  0%|          | 0/200 [00:00<?, ?it/s]"
      ]
     },
     "metadata": {},
     "output_type": "display_data"
    }
   ],
   "source": [
    "train_losses, test_losses, train_accs, test_accs = training_loop(\n",
    "    n_epochs=200, network=dense_network, loss_fn=loss_fn, \n",
    "    optimizer=optimizer, ds_train=(X_train, y_train), ds_test=(X_test, y_test), device=device\n",
    ")"
   ]
  },
  {
   "cell_type": "code",
   "execution_count": null,
   "metadata": {
    "ExecuteTime": {
     "end_time": "2022-09-19T20:11:54.267322Z",
     "start_time": "2022-09-19T20:11:54.263721Z"
    }
   },
   "outputs": [],
   "source": [
    "\n",
    "print(f'Cross Entropy (Train/Test): {train_losses[-1]}/{test_losses[-1]}')\n",
    "print(f'Accuracy (Train/Test): {train_accs[-1]}/{test_accs[-1]}')"
   ]
  },
  {
   "cell_type": "markdown",
   "metadata": {},
   "source": [
    "Изобразим на графике кривую качества на обучении и контроле по итерациям:"
   ]
  },
  {
   "cell_type": "code",
   "execution_count": 29,
   "metadata": {
    "ExecuteTime": {
     "end_time": "2022-09-19T20:11:54.439002Z",
     "start_time": "2022-09-19T20:11:54.273107Z"
    }
   },
   "outputs": [
    {
     "data": {
      "image/png": "[encoded data removed]",
      "text/plain": [
       "<Figure size 1000x500 with 1 Axes>"
      ]
     },
     "metadata": {},
     "output_type": "display_data"
    }
   ],
   "source": [
    "fig, ax = plt.subplots(1, 1, figsize=(10, 5))\n",
    "ax.plot(train_accs, label=\"train acc\")\n",
    "ax.plot(test_accs, label=\"test acc\")\n",
    "ax.set_xlabel(\"Iteration\")\n",
    "ax.set_ylabel(\"Accuracy\")\n",
    "ax.grid(True)\n",
    "ax.legend()\n",
    "\n",
    "fig.tight_layout()\n",
    "plt.show()"
   ]
  },
  {
   "cell_type": "markdown",
   "metadata": {},
   "source": [
    "## Эксперименты с числом слоев."
   ]
  },
  {
   "cell_type": "markdown",
   "metadata": {},
   "source": [
    "Ясно, что из-за случайного начального приближения с каждым запуском обучения мы будем получать различное качество. Попробуем обучить нашу нейросеть с разным числом слоев несколько раз.\n",
    "\n",
    "Заполните матрицы `accs_train` и `accs_test`. В позиции `[i, j]` должна стоять величина доли правильных ответов сети с $i+1$ полносвязными слоями при $j$-м запуске (все запуски идентичны, то есть используются одинаковые гиперпараметры обучения)."
   ]
  },
  {
   "cell_type": "code",
   "execution_count": 30,
   "metadata": {
    "ExecuteTime": {
     "end_time": "2022-09-19T20:14:26.767694Z",
     "start_time": "2022-09-19T20:14:26.764731Z"
    }
   },
   "outputs": [],
   "source": [
    "accs_train = np.zeros((5, 5))\n",
    "accs_test = np.zeros((5, 5))"
   ]
  },
  {
   "cell_type": "code",
   "execution_count": 31,
   "metadata": {
    "ExecuteTime": {
     "end_time": "2022-09-19T20:14:49.229650Z",
     "start_time": "2022-09-19T20:14:27.024375Z"
    },
    "scrolled": true
   },
   "outputs": [
    {
     "data": {
      "application/vnd.jupyter.widget-view+json": {
       "model_id": "6ed3d5b8c5394f25b68704db994dfdfb",
       "version_major": 2,
       "version_minor": 0
      },
      "text/plain": [
       "  0%|          | 0/25 [00:00<?, ?it/s]"
      ]
     },
     "metadata": {},
     "output_type": "display_data"
    },
    {
     "data": {
      "application/vnd.jupyter.widget-view+json": {
       "model_id": "46beb9cf70b045ce80fcdc6767bb43d8",
       "version_major": 2,
       "version_minor": 0
      },
      "text/plain": [
       "  0%|          | 0/200 [00:00<?, ?it/s]"
      ]
     },
     "metadata": {},
     "output_type": "display_data"
    },
    {
     "data": {
      "application/vnd.jupyter.widget-view+json": {
       "model_id": "d2bdd44b523a4da8a27fe7089796d3c5",
       "version_major": 2,
       "version_minor": 0
      },
      "text/plain": [
       "  0%|          | 0/200 [00:00<?, ?it/s]"
      ]
     },
     "metadata": {},
     "output_type": "display_data"
    },
    {
     "data": {
      "application/vnd.jupyter.widget-view+json": {
       "model_id": "535676b7533c4419b1a049c35698dfc1",
       "version_major": 2,
       "version_minor": 0
      },
      "text/plain": [
       "  0%|          | 0/200 [00:00<?, ?it/s]"
      ]
     },
     "metadata": {},
     "output_type": "display_data"
    },
    {
     "data": {
      "application/vnd.jupyter.widget-view+json": {
       "model_id": "7a2974fa897b4a79b5622a5ea6fcc150",
       "version_major": 2,
       "version_minor": 0
      },
      "text/plain": [
       "  0%|          | 0/200 [00:00<?, ?it/s]"
      ]
     },
     "metadata": {},
     "output_type": "display_data"
    },
    {
     "data": {
      "application/vnd.jupyter.widget-view+json": {
       "model_id": "104af1c99b3e4216877109d54aab2a60",
       "version_major": 2,
       "version_minor": 0
      },
      "text/plain": [
       "  0%|          | 0/200 [00:00<?, ?it/s]"
      ]
     },
     "metadata": {},
     "output_type": "display_data"
    },
    {
     "data": {
      "application/vnd.jupyter.widget-view+json": {
       "model_id": "31b521ae094d4b368e464a733aed303b",
       "version_major": 2,
       "version_minor": 0
      },
      "text/plain": [
       "  0%|          | 0/200 [00:00<?, ?it/s]"
      ]
     },
     "metadata": {},
     "output_type": "display_data"
    },
    {
     "data": {
      "application/vnd.jupyter.widget-view+json": {
       "model_id": "15f540ac6c6f419c9f8d5eb9b81884f5",
       "version_major": 2,
       "version_minor": 0
      },
      "text/plain": [
       "  0%|          | 0/200 [00:00<?, ?it/s]"
      ]
     },
     "metadata": {},
     "output_type": "display_data"
    },
    {
     "data": {
      "application/vnd.jupyter.widget-view+json": {
       "model_id": "b5687ac172104ce49da29abfb438d765",
       "version_major": 2,
       "version_minor": 0
      },
      "text/plain": [
       "  0%|          | 0/200 [00:00<?, ?it/s]"
      ]
     },
     "metadata": {},
     "output_type": "display_data"
    },
    {
     "data": {
      "application/vnd.jupyter.widget-view+json": {
       "model_id": "5aa22f6f30654b3d8e65dc0a4dafd957",
       "version_major": 2,
       "version_minor": 0
      },
      "text/plain": [
       "  0%|          | 0/200 [00:00<?, ?it/s]"
      ]
     },
     "metadata": {},
     "output_type": "display_data"
    },
    {
     "data": {
      "application/vnd.jupyter.widget-view+json": {
       "model_id": "7e8a445e93e34b06ac04d0538220e86d",
       "version_major": 2,
       "version_minor": 0
      },
      "text/plain": [
       "  0%|          | 0/200 [00:00<?, ?it/s]"
      ]
     },
     "metadata": {},
     "output_type": "display_data"
    },
    {
     "data": {
      "application/vnd.jupyter.widget-view+json": {
       "model_id": "f409c69342a1479ebe7a519cf4e47792",
       "version_major": 2,
       "version_minor": 0
      },
      "text/plain": [
       "  0%|          | 0/200 [00:00<?, ?it/s]"
      ]
     },
     "metadata": {},
     "output_type": "display_data"
    },
    {
     "data": {
      "application/vnd.jupyter.widget-view+json": {
       "model_id": "792da128248e430a81f360cadc44db14",
       "version_major": 2,
       "version_minor": 0
      },
      "text/plain": [
       "  0%|          | 0/200 [00:00<?, ?it/s]"
      ]
     },
     "metadata": {},
     "output_type": "display_data"
    },
    {
     "data": {
      "application/vnd.jupyter.widget-view+json": {
       "model_id": "43cbe6bdae334279b683bb6edfa3b0b7",
       "version_major": 2,
       "version_minor": 0
      },
      "text/plain": [
       "  0%|          | 0/200 [00:00<?, ?it/s]"
      ]
     },
     "metadata": {},
     "output_type": "display_data"
    },
    {
     "data": {
      "application/vnd.jupyter.widget-view+json": {
       "model_id": "383d6beb1ef04938a84a82b893926b50",
       "version_major": 2,
       "version_minor": 0
      },
      "text/plain": [
       "  0%|          | 0/200 [00:00<?, ?it/s]"
      ]
     },
     "metadata": {},
     "output_type": "display_data"
    },
    {
     "data": {
      "application/vnd.jupyter.widget-view+json": {
       "model_id": "c863f2cae9564fc0bc48bc5af32996cc",
       "version_major": 2,
       "version_minor": 0
      },
      "text/plain": [
       "  0%|          | 0/200 [00:00<?, ?it/s]"
      ]
     },
     "metadata": {},
     "output_type": "display_data"
    },
    {
     "data": {
      "application/vnd.jupyter.widget-view+json": {
       "model_id": "9fca26dbe7714619804b9e73f551ad2d",
       "version_major": 2,
       "version_minor": 0
      },
      "text/plain": [
       "  0%|          | 0/200 [00:00<?, ?it/s]"
      ]
     },
     "metadata": {},
     "output_type": "display_data"
    },
    {
     "data": {
      "application/vnd.jupyter.widget-view+json": {
       "model_id": "45defdd61ce74c4ba2e832cb3d91613b",
       "version_major": 2,
       "version_minor": 0
      },
      "text/plain": [
       "  0%|          | 0/200 [00:00<?, ?it/s]"
      ]
     },
     "metadata": {},
     "output_type": "display_data"
    },
    {
     "data": {
      "application/vnd.jupyter.widget-view+json": {
       "model_id": "e36f2b14e5b243598d441a0c8a3fa78a",
       "version_major": 2,
       "version_minor": 0
      },
      "text/plain": [
       "  0%|          | 0/200 [00:00<?, ?it/s]"
      ]
     },
     "metadata": {},
     "output_type": "display_data"
    },
    {
     "data": {
      "application/vnd.jupyter.widget-view+json": {
       "model_id": "ecd8328d62214058a70336b6e6dda93b",
       "version_major": 2,
       "version_minor": 0
      },
      "text/plain": [
       "  0%|          | 0/200 [00:00<?, ?it/s]"
      ]
     },
     "metadata": {},
     "output_type": "display_data"
    },
    {
     "data": {
      "application/vnd.jupyter.widget-view+json": {
       "model_id": "7f41213b0eea45d5b0594ab84b3d9e0b",
       "version_major": 2,
       "version_minor": 0
      },
      "text/plain": [
       "  0%|          | 0/200 [00:00<?, ?it/s]"
      ]
     },
     "metadata": {},
     "output_type": "display_data"
    },
    {
     "data": {
      "application/vnd.jupyter.widget-view+json": {
       "model_id": "4c0178652603403aa4670b639b05d85a",
       "version_major": 2,
       "version_minor": 0
      },
      "text/plain": [
       "  0%|          | 0/200 [00:00<?, ?it/s]"
      ]
     },
     "metadata": {},
     "output_type": "display_data"
    },
    {
     "data": {
      "application/vnd.jupyter.widget-view+json": {
       "model_id": "4d45d25e52b1416cb5bdd91887f90904",
       "version_major": 2,
       "version_minor": 0
      },
      "text/plain": [
       "  0%|          | 0/200 [00:00<?, ?it/s]"
      ]
     },
     "metadata": {},
     "output_type": "display_data"
    },
    {
     "data": {
      "application/vnd.jupyter.widget-view+json": {
       "model_id": "12d03493de06468b936a96075c74a71b",
       "version_major": 2,
       "version_minor": 0
      },
      "text/plain": [
       "  0%|          | 0/200 [00:00<?, ?it/s]"
      ]
     },
     "metadata": {},
     "output_type": "display_data"
    },
    {
     "data": {
      "application/vnd.jupyter.widget-view+json": {
       "model_id": "1952851b9a944b86a9fbfa2931e70c6f",
       "version_major": 2,
       "version_minor": 0
      },
      "text/plain": [
       "  0%|          | 0/200 [00:00<?, ?it/s]"
      ]
     },
     "metadata": {},
     "output_type": "display_data"
    },
    {
     "data": {
      "application/vnd.jupyter.widget-view+json": {
       "model_id": "c20cca47f5d049129612b532b8f20d82",
       "version_major": 2,
       "version_minor": 0
      },
      "text/plain": [
       "  0%|          | 0/200 [00:00<?, ?it/s]"
      ]
     },
     "metadata": {},
     "output_type": "display_data"
    }
   ],
   "source": [
    "from itertools import product\n",
    "\n",
    "for i, j in tqdm.tqdm(product(range(5), range(5)), total=25):\n",
    "    dense_network = DenseNetwork(\n",
    "        in_features=in_features, hidden_size=hidden_size, \n",
    "        n_classes=n_classes, n_layers=i+1, activation=ReLU\n",
    "    ).to(device)\n",
    "    optimizer = torch.optim.LBFGS(dense_network.parameters(), max_iter=1)\n",
    "    loss_fn = CrossEntropyLoss()\n",
    "    \n",
    "    _, _, train_accs, test_accs = training_loop(\n",
    "        n_epochs=200, network=dense_network, loss_fn=loss_fn, \n",
    "        optimizer=optimizer, ds_train=(X_train, y_train), ds_test=(X_test, y_test), device=device\n",
    "    )\n",
    "\n",
    "    accs_train[i, j], accs_test[i, j] = train_accs[-1], test_accs[-1]"
   ]
  },
  {
   "cell_type": "markdown",
   "metadata": {},
   "source": [
    "Построим боксплоты полученного качества (горизонтальная линия в каждом столбце — среднее, прямоугольник показывает разброс)."
   ]
  },
  {
   "cell_type": "code",
   "execution_count": 32,
   "metadata": {
    "ExecuteTime": {
     "end_time": "2022-09-19T20:14:49.506577Z",
     "start_time": "2022-09-19T20:14:49.231451Z"
    }
   },
   "outputs": [
    {
     "data": {
      "image/png": "[encoded data removed]",
      "text/plain": [
       "<Figure size 1000x800 with 2 Axes>"
      ]
     },
     "metadata": {},
     "output_type": "display_data"
    }
   ],
   "source": [
    "fig, axes = plt.subplots(2, 1, figsize=(10, 8))\n",
    "\n",
    "axes[0].boxplot(accs_train.T, showfliers=False)\n",
    "axes[1].boxplot(accs_test.T, showfliers=False)\n",
    "\n",
    "axes[0].set_xlabel(\"Number of layers\")\n",
    "axes[1].set_xlabel(\"Number of layers\")\n",
    "\n",
    "axes[0].set_ylabel(\"Train accuracy\")\n",
    "axes[1].set_ylabel(\"Test accuracy\")\n",
    "\n",
    "axes[0].set_title(\"Train quality in 5 runs\")\n",
    "axes[1].set_title(\"Test quality in 5 runs\")\n",
    "\n",
    "axes[0].grid(True)\n",
    "axes[1].grid(True)\n",
    "\n",
    "fig.tight_layout()\n",
    "plt.show()"
   ]
  },
  {
   "cell_type": "markdown",
   "metadata": {},
   "source": [
    "Дайте развёрнутый ответ на вопросы (в этой же ячейке):\n",
    "1. Как изменяются качество на обучении и контроле и устойчивость процесса обучения при увеличении числа слоев?\n",
    "2. Можно ли сказать, что логистическая регрессия (линейная модель) дает качество хуже, чем нелинейная модель?\n",
    "\n",
    "__Ответы:__ \n",
    "\n",
    "1. С ростом количества слоём качество падает, что видно по среднему, устойчивость тоже падает, что видно по возросшему спреду значений. Вероятно это происходит из-за слишком большого количества параметров, которые не успевают обучиться на 200 эпохах.\n",
    "2. Нет, ибо её достаточно для нашей задачи и она имеет лучшее среднее качество на проведённых тестах."
   ]
  },
  {
   "cell_type": "markdown",
   "metadata": {},
   "source": [
    "## Эксперименты c различными инициализациями весов. "
   ]
  },
  {
   "cell_type": "markdown",
   "metadata": {},
   "source": [
    "Как уже было сказано, начальная инициализация весов нейронной сети может сильно влиять на процесс ее обучения и, как следствие, на ее качество.\n",
    "\n",
    "В этом пункте вам предлагается попробовать обучить несколько нейронных сетей с различными инициализациями слоев.\n",
    "\n",
    "Для этого необходимо реализовать функцию, инициализирующую веса линейных слоёв нашей нейронной сети. Для этого воспользуемся методом [`apply`](https://pytorch.org/docs/stable/generated/torch.nn.Module.html#torch.nn.Module.apply), определённым у класса `torch.nn.Module`. Данный метод позволяет рекурсивно применить пользовательскую функцию ко всем подмодулям данного модуля.\n",
    "\n",
    "Реализуйте функцию `initialize_module`. Добавьте в её функционал возможность инициализировать веса сеть с помощью:\n",
    "1. **Инициализации Kaiming** (используется, если в нейронной сети в качестве функций активации используется ReLU) \n",
    "2. **Инициализации Xavier** (используется, если в нейронной сети в качестве функций активации используется Tanh или Sigmoid)\n",
    "3. **Инициализации нормальным распределением** с нулевым средним и заданной дисперсией"
   ]
  },
  {
   "cell_type": "markdown",
   "metadata": {
    "ExecuteTime": {
     "end_time": "2022-09-02T03:24:03.510046Z",
     "start_time": "2022-09-02T03:24:03.502044Z"
    }
   },
   "source": [
    "**Замечание:** метод `apply` применяется рекурсивно ко всем модулям. Чтобы инициализировать линейные слои нужно проверять, является ли данный модуль инстансом класса `Linear`. Можете использовать встроенный метод `isinstance` для такой проверки. "
   ]
  },
  {
   "cell_type": "code",
   "execution_count": 33,
   "metadata": {
    "ExecuteTime": {
     "end_time": "2022-09-05T01:20:16.602083Z",
     "start_time": "2022-09-05T01:20:16.597175Z"
    }
   },
   "outputs": [],
   "source": [
    "def initialize_module(module: torch.nn.Module, init: str):\n",
    "    '''\n",
    "    Инициализация линейного модуля с заданными параметрами\n",
    "    :param torch.nn.Module module: Модуль, который нужно инициализировать\n",
    "    :param Union[str, float] init: В зависимости от значения, выполняется инициализация матрицы весов:\n",
    "        * init == 'Kaiming': инициализация Kaiming\n",
    "        * init == 'Xavier': инициализация Xavier\n",
    "        * isinstance(init, float): инициализация из нормального распределения со стандартным отклонением init\n",
    "        Вектор смещения всегда инициализируется нулями\n",
    "        \n",
    "    '''\n",
    "    if not isinstance(module, Linear):\n",
    "        return\n",
    "    \n",
    "    torch.nn.init.zeros_(module.bias)\n",
    "\n",
    "    if init == 'Kaiming':\n",
    "        torch.nn.init.kaiming_uniform_(module.weight)\n",
    "    elif init == 'Xavier':\n",
    "        torch.nn.init.xavier_uniform_(module.weight)\n",
    "    elif isinstance(init, float):\n",
    "        torch.nn.init.normal_(module.weight, 0, init)"
   ]
  },
  {
   "cell_type": "markdown",
   "metadata": {},
   "source": [
    "Теперь попробуем для каждой из $3$ инициализаций обучить нейронную сеть несколько раз. Попробуйте проделать данную операцию при зафиксированном числе слоев равным $3$, $4$ и $5$."
   ]
  },
  {
   "cell_type": "markdown",
   "metadata": {},
   "source": [
    "### 3 слоя\n",
    "\n",
    "Зафиксируем в сети число слоев равное трём."
   ]
  },
  {
   "cell_type": "markdown",
   "metadata": {},
   "source": [
    "Заполним матрицы `accs_train` и `accs_test`. В позиции `[i, j]` должна стоять величина доли правильных ответов сети при $j$-м запуске (все запуски идентичны) с инициализацией Kaiming при $i = 3$, с инициализацией Xavier при $i = 4$ и с инициализацией из нормального распределения с фиксированными параметрами при $0 \\leqslant i \\leqslant 2$ (попробуйте здесь $3$ разных параметра для стандартного отклонения для нормального распределения, например: `1e-3`, `1e-2`, `1e-1`). "
   ]
  },
  {
   "cell_type": "code",
   "execution_count": 34,
   "metadata": {
    "ExecuteTime": {
     "end_time": "2022-09-05T01:20:16.617709Z",
     "start_time": "2022-09-05T01:20:16.602083Z"
    }
   },
   "outputs": [],
   "source": [
    "init_vars = [1e-3, 1e-2, 1e-1, 'Kaiming', 'Xavier']"
   ]
  },
  {
   "cell_type": "code",
   "execution_count": 35,
   "metadata": {
    "ExecuteTime": {
     "end_time": "2022-09-05T01:20:16.633335Z",
     "start_time": "2022-09-05T01:20:16.617709Z"
    }
   },
   "outputs": [],
   "source": [
    "accs_train = np.zeros((5, 5))\n",
    "accs_test = np.zeros((5, 5))"
   ]
  },
  {
   "cell_type": "code",
   "execution_count": 36,
   "metadata": {
    "ExecuteTime": {
     "end_time": "2022-09-05T01:20:16.648960Z",
     "start_time": "2022-09-05T01:20:16.633335Z"
    }
   },
   "outputs": [],
   "source": [
    "from functools import partial"
   ]
  },
  {
   "cell_type": "code",
   "execution_count": 37,
   "metadata": {
    "ExecuteTime": {
     "end_time": "2022-09-05T01:20:53.203204Z",
     "start_time": "2022-09-05T01:20:16.648960Z"
    },
    "scrolled": true
   },
   "outputs": [
    {
     "data": {
      "application/vnd.jupyter.widget-view+json": {
       "model_id": "f0bfc866dea442e198395a78370f10e6",
       "version_major": 2,
       "version_minor": 0
      },
      "text/plain": [
       "  0%|          | 0/25 [00:00<?, ?it/s]"
      ]
     },
     "metadata": {},
     "output_type": "display_data"
    },
    {
     "data": {
      "application/vnd.jupyter.widget-view+json": {
       "model_id": "cd7ef22220464c96a4c11b5d3bbabac1",
       "version_major": 2,
       "version_minor": 0
      },
      "text/plain": [
       "  0%|          | 0/200 [00:00<?, ?it/s]"
      ]
     },
     "metadata": {},
     "output_type": "display_data"
    },
    {
     "data": {
      "application/vnd.jupyter.widget-view+json": {
       "model_id": "d6638baf334e4a749673fdf129bc431d",
       "version_major": 2,
       "version_minor": 0
      },
      "text/plain": [
       "  0%|          | 0/200 [00:00<?, ?it/s]"
      ]
     },
     "metadata": {},
     "output_type": "display_data"
    },
    {
     "data": {
      "application/vnd.jupyter.widget-view+json": {
       "model_id": "8d5cdfbcfd754d81b8536d92f78fb8e4",
       "version_major": 2,
       "version_minor": 0
      },
      "text/plain": [
       "  0%|          | 0/200 [00:00<?, ?it/s]"
      ]
     },
     "metadata": {},
     "output_type": "display_data"
    },
    {
     "data": {
      "application/vnd.jupyter.widget-view+json": {
       "model_id": "f8e69c1c4cfe499cb0d666d0513b4268",
       "version_major": 2,
       "version_minor": 0
      },
      "text/plain": [
       "  0%|          | 0/200 [00:00<?, ?it/s]"
      ]
     },
     "metadata": {},
     "output_type": "display_data"
    },
    {
     "data": {
      "application/vnd.jupyter.widget-view+json": {
       "model_id": "b4a3fe82059f48ad86ab44886ac1bc24",
       "version_major": 2,
       "version_minor": 0
      },
      "text/plain": [
       "  0%|          | 0/200 [00:00<?, ?it/s]"
      ]
     },
     "metadata": {},
     "output_type": "display_data"
    },
    {
     "data": {
      "application/vnd.jupyter.widget-view+json": {
       "model_id": "82615f14043c4d58b0ffaeb357aa8c41",
       "version_major": 2,
       "version_minor": 0
      },
      "text/plain": [
       "  0%|          | 0/200 [00:00<?, ?it/s]"
      ]
     },
     "metadata": {},
     "output_type": "display_data"
    },
    {
     "data": {
      "application/vnd.jupyter.widget-view+json": {
       "model_id": "a035f557108d4331811c5d58ce27e514",
       "version_major": 2,
       "version_minor": 0
      },
      "text/plain": [
       "  0%|          | 0/200 [00:00<?, ?it/s]"
      ]
     },
     "metadata": {},
     "output_type": "display_data"
    },
    {
     "data": {
      "application/vnd.jupyter.widget-view+json": {
       "model_id": "6af43ebe32c645e0b8cf1bb11a6fc04f",
       "version_major": 2,
       "version_minor": 0
      },
      "text/plain": [
       "  0%|          | 0/200 [00:00<?, ?it/s]"
      ]
     },
     "metadata": {},
     "output_type": "display_data"
    },
    {
     "data": {
      "application/vnd.jupyter.widget-view+json": {
       "model_id": "b1f434c2c1584fdda9c0430d43a9aa0f",
       "version_major": 2,
       "version_minor": 0
      },
      "text/plain": [
       "  0%|          | 0/200 [00:00<?, ?it/s]"
      ]
     },
     "metadata": {},
     "output_type": "display_data"
    },
    {
     "data": {
      "application/vnd.jupyter.widget-view+json": {
       "model_id": "b255981018a64e908b908e9d4ea9d5b3",
       "version_major": 2,
       "version_minor": 0
      },
      "text/plain": [
       "  0%|          | 0/200 [00:00<?, ?it/s]"
      ]
     },
     "metadata": {},
     "output_type": "display_data"
    },
    {
     "data": {
      "application/vnd.jupyter.widget-view+json": {
       "model_id": "befbd900808e45b695969be30457f3af",
       "version_major": 2,
       "version_minor": 0
      },
      "text/plain": [
       "  0%|          | 0/200 [00:00<?, ?it/s]"
      ]
     },
     "metadata": {},
     "output_type": "display_data"
    },
    {
     "data": {
      "application/vnd.jupyter.widget-view+json": {
       "model_id": "a9f132c0bc5f482c9407f804831c6aca",
       "version_major": 2,
       "version_minor": 0
      },
      "text/plain": [
       "  0%|          | 0/200 [00:00<?, ?it/s]"
      ]
     },
     "metadata": {},
     "output_type": "display_data"
    },
    {
     "data": {
      "application/vnd.jupyter.widget-view+json": {
       "model_id": "8dd7bea85e3b4fdeb9fdaa30bb6a33e1",
       "version_major": 2,
       "version_minor": 0
      },
      "text/plain": [
       "  0%|          | 0/200 [00:00<?, ?it/s]"
      ]
     },
     "metadata": {},
     "output_type": "display_data"
    },
    {
     "data": {
      "application/vnd.jupyter.widget-view+json": {
       "model_id": "e569226489f746a3a8d3d46707ad4caf",
       "version_major": 2,
       "version_minor": 0
      },
      "text/plain": [
       "  0%|          | 0/200 [00:00<?, ?it/s]"
      ]
     },
     "metadata": {},
     "output_type": "display_data"
    },
    {
     "data": {
      "application/vnd.jupyter.widget-view+json": {
       "model_id": "73bf46d2971546d9a52504a8f6c30c01",
       "version_major": 2,
       "version_minor": 0
      },
      "text/plain": [
       "  0%|          | 0/200 [00:00<?, ?it/s]"
      ]
     },
     "metadata": {},
     "output_type": "display_data"
    },
    {
     "data": {
      "application/vnd.jupyter.widget-view+json": {
       "model_id": "bc97d6edacec4b54b861a622f798f73d",
       "version_major": 2,
       "version_minor": 0
      },
      "text/plain": [
       "  0%|          | 0/200 [00:00<?, ?it/s]"
      ]
     },
     "metadata": {},
     "output_type": "display_data"
    },
    {
     "data": {
      "application/vnd.jupyter.widget-view+json": {
       "model_id": "0deb9194c0d541ccb1ba887ee5bc1ddb",
       "version_major": 2,
       "version_minor": 0
      },
      "text/plain": [
       "  0%|          | 0/200 [00:00<?, ?it/s]"
      ]
     },
     "metadata": {},
     "output_type": "display_data"
    },
    {
     "data": {
      "application/vnd.jupyter.widget-view+json": {
       "model_id": "03776a0a9473461194eaf2553ae14895",
       "version_major": 2,
       "version_minor": 0
      },
      "text/plain": [
       "  0%|          | 0/200 [00:00<?, ?it/s]"
      ]
     },
     "metadata": {},
     "output_type": "display_data"
    },
    {
     "data": {
      "application/vnd.jupyter.widget-view+json": {
       "model_id": "1f5e6d19474c49fcb2ec9dea3369aaa7",
       "version_major": 2,
       "version_minor": 0
      },
      "text/plain": [
       "  0%|          | 0/200 [00:00<?, ?it/s]"
      ]
     },
     "metadata": {},
     "output_type": "display_data"
    },
    {
     "data": {
      "application/vnd.jupyter.widget-view+json": {
       "model_id": "7f94e47800f942f1a8f0bf34779234a3",
       "version_major": 2,
       "version_minor": 0
      },
      "text/plain": [
       "  0%|          | 0/200 [00:00<?, ?it/s]"
      ]
     },
     "metadata": {},
     "output_type": "display_data"
    },
    {
     "data": {
      "application/vnd.jupyter.widget-view+json": {
       "model_id": "f2be55bfd35148e4b6fd7690e5b7f51c",
       "version_major": 2,
       "version_minor": 0
      },
      "text/plain": [
       "  0%|          | 0/200 [00:00<?, ?it/s]"
      ]
     },
     "metadata": {},
     "output_type": "display_data"
    },
    {
     "data": {
      "application/vnd.jupyter.widget-view+json": {
       "model_id": "7fadd8229bf14ee5b0ab6abd152d864e",
       "version_major": 2,
       "version_minor": 0
      },
      "text/plain": [
       "  0%|          | 0/200 [00:00<?, ?it/s]"
      ]
     },
     "metadata": {},
     "output_type": "display_data"
    },
    {
     "data": {
      "application/vnd.jupyter.widget-view+json": {
       "model_id": "8f81992ce896425c85fae5b10e207db6",
       "version_major": 2,
       "version_minor": 0
      },
      "text/plain": [
       "  0%|          | 0/200 [00:00<?, ?it/s]"
      ]
     },
     "metadata": {},
     "output_type": "display_data"
    },
    {
     "data": {
      "application/vnd.jupyter.widget-view+json": {
       "model_id": "78101ee6365947e184ed753731e856e2",
       "version_major": 2,
       "version_minor": 0
      },
      "text/plain": [
       "  0%|          | 0/200 [00:00<?, ?it/s]"
      ]
     },
     "metadata": {},
     "output_type": "display_data"
    },
    {
     "data": {
      "application/vnd.jupyter.widget-view+json": {
       "model_id": "7958e425d2d2450d8e930527e67be9d8",
       "version_major": 2,
       "version_minor": 0
      },
      "text/plain": [
       "  0%|          | 0/200 [00:00<?, ?it/s]"
      ]
     },
     "metadata": {},
     "output_type": "display_data"
    }
   ],
   "source": [
    "from itertools import product\n",
    "\n",
    "for i, j in tqdm.tqdm(product(range(5), range(5)), total=25):\n",
    "    dense_network = DenseNetwork(\n",
    "        in_features=in_features, hidden_size=hidden_size, \n",
    "        n_classes=n_classes, n_layers=3, activation=ReLU\n",
    "    ).to(device)\n",
    "    dense_network.apply(partial(initialize_module, init=init_vars[i]))\n",
    "    optimizer = torch.optim.LBFGS(dense_network.parameters(), max_iter=1)\n",
    "    loss_fn = CrossEntropyLoss()\n",
    "    \n",
    "    _, _, train_accs, test_accs = training_loop(\n",
    "        n_epochs=200, network=dense_network, loss_fn=loss_fn, \n",
    "        optimizer=optimizer, ds_train=(X_train, y_train), ds_test=(X_test, y_test), device=device\n",
    "    )\n",
    "\n",
    "    accs_train[i, j], accs_test[i, j] = train_accs[-1], test_accs[-1]"
   ]
  },
  {
   "cell_type": "markdown",
   "metadata": {},
   "source": [
    "Построим боксплоты полученного качества (горизонтальная линия в каждом столбце — среднее, прямоугольник показывает разброс)."
   ]
  },
  {
   "cell_type": "code",
   "execution_count": 38,
   "metadata": {
    "ExecuteTime": {
     "end_time": "2022-09-05T01:20:53.410014Z",
     "start_time": "2022-09-05T01:20:53.204205Z"
    }
   },
   "outputs": [
    {
     "data": {
      "image/png": "[encoded data removed]",
      "text/plain": [
       "<Figure size 1000x500 with 1 Axes>"
      ]
     },
     "metadata": {},
     "output_type": "display_data"
    }
   ],
   "source": [
    "init_vars_for_plot = [(x if isinstance(x, str) else fr\"$\\sigma = {x}$\") for x in init_vars]\n",
    "\n",
    "fig, ax = plt.subplots(1, 1, figsize=(10, 5))\n",
    "\n",
    "ax.boxplot(accs_test.T, labels=init_vars_for_plot, showfliers=False)\n",
    "\n",
    "ax.set_title(\"Test quality in 5 runs\")\n",
    "ax.set_xlabel(\"Initialization\")\n",
    "ax.set_ylabel(\"Test accuracy\")\n",
    "ax.grid(True)\n",
    "\n",
    "fig.tight_layout()\n",
    "plt.show()"
   ]
  },
  {
   "cell_type": "markdown",
   "metadata": {},
   "source": [
    "### 4 слоя\n",
    "\n",
    "Выполните тут тот же код, что и в предыдущем пункте, но только уже с $4$ слоями в сети."
   ]
  },
  {
   "cell_type": "code",
   "execution_count": 39,
   "metadata": {
    "ExecuteTime": {
     "end_time": "2022-09-05T01:20:53.426015Z",
     "start_time": "2022-09-05T01:20:53.411015Z"
    }
   },
   "outputs": [],
   "source": [
    "init_vars = [1e-3, 1e-2, 1e-1, 'Kaiming', 'Xavier']"
   ]
  },
  {
   "cell_type": "code",
   "execution_count": 40,
   "metadata": {
    "ExecuteTime": {
     "end_time": "2022-09-05T01:20:53.441014Z",
     "start_time": "2022-09-05T01:20:53.427016Z"
    }
   },
   "outputs": [],
   "source": [
    "accs_train = np.zeros((5, 5))\n",
    "accs_test = np.zeros((5, 5))"
   ]
  },
  {
   "cell_type": "code",
   "execution_count": 41,
   "metadata": {
    "ExecuteTime": {
     "end_time": "2022-09-05T01:21:40.639899Z",
     "start_time": "2022-09-05T01:20:53.442014Z"
    }
   },
   "outputs": [
    {
     "data": {
      "application/vnd.jupyter.widget-view+json": {
       "model_id": "09132f3d83844816834b70d5fa3665b1",
       "version_major": 2,
       "version_minor": 0
      },
      "text/plain": [
       "  0%|          | 0/25 [00:00<?, ?it/s]"
      ]
     },
     "metadata": {},
     "output_type": "display_data"
    },
    {
     "data": {
      "application/vnd.jupyter.widget-view+json": {
       "model_id": "9430fa0eec3546ecbd1d17d0880b02f1",
       "version_major": 2,
       "version_minor": 0
      },
      "text/plain": [
       "  0%|          | 0/200 [00:00<?, ?it/s]"
      ]
     },
     "metadata": {},
     "output_type": "display_data"
    },
    {
     "data": {
      "application/vnd.jupyter.widget-view+json": {
       "model_id": "e8d89f85f3f84b6bb7c48b29668a894d",
       "version_major": 2,
       "version_minor": 0
      },
      "text/plain": [
       "  0%|          | 0/200 [00:00<?, ?it/s]"
      ]
     },
     "metadata": {},
     "output_type": "display_data"
    },
    {
     "data": {
      "application/vnd.jupyter.widget-view+json": {
       "model_id": "883a0cd9cdd94483be1362987cbc8a97",
       "version_major": 2,
       "version_minor": 0
      },
      "text/plain": [
       "  0%|          | 0/200 [00:00<?, ?it/s]"
      ]
     },
     "metadata": {},
     "output_type": "display_data"
    },
    {
     "data": {
      "application/vnd.jupyter.widget-view+json": {
       "model_id": "b3636a9ef6b44d6ba8280b5ca7727ff6",
       "version_major": 2,
       "version_minor": 0
      },
      "text/plain": [
       "  0%|          | 0/200 [00:00<?, ?it/s]"
      ]
     },
     "metadata": {},
     "output_type": "display_data"
    },
    {
     "data": {
      "application/vnd.jupyter.widget-view+json": {
       "model_id": "0b3e8e27ef7d437f84b44e29392080cb",
       "version_major": 2,
       "version_minor": 0
      },
      "text/plain": [
       "  0%|          | 0/200 [00:00<?, ?it/s]"
      ]
     },
     "metadata": {},
     "output_type": "display_data"
    },
    {
     "data": {
      "application/vnd.jupyter.widget-view+json": {
       "model_id": "49309fddc0ae45ff80609e8a076911a0",
       "version_major": 2,
       "version_minor": 0
      },
      "text/plain": [
       "  0%|          | 0/200 [00:00<?, ?it/s]"
      ]
     },
     "metadata": {},
     "output_type": "display_data"
    },
    {
     "data": {
      "application/vnd.jupyter.widget-view+json": {
       "model_id": "cca21a50e39a45eda0ddd85d3c573513",
       "version_major": 2,
       "version_minor": 0
      },
      "text/plain": [
       "  0%|          | 0/200 [00:00<?, ?it/s]"
      ]
     },
     "metadata": {},
     "output_type": "display_data"
    },
    {
     "data": {
      "application/vnd.jupyter.widget-view+json": {
       "model_id": "814f18d9134b4d4f9d639eb4f1bcfdf6",
       "version_major": 2,
       "version_minor": 0
      },
      "text/plain": [
       "  0%|          | 0/200 [00:00<?, ?it/s]"
      ]
     },
     "metadata": {},
     "output_type": "display_data"
    },
    {
     "data": {
      "application/vnd.jupyter.widget-view+json": {
       "model_id": "68a7473588cc40769dcfd33029179f83",
       "version_major": 2,
       "version_minor": 0
      },
      "text/plain": [
       "  0%|          | 0/200 [00:00<?, ?it/s]"
      ]
     },
     "metadata": {},
     "output_type": "display_data"
    },
    {
     "data": {
      "application/vnd.jupyter.widget-view+json": {
       "model_id": "f1ff658669c84fd0976256cf5fddc58d",
       "version_major": 2,
       "version_minor": 0
      },
      "text/plain": [
       "  0%|          | 0/200 [00:00<?, ?it/s]"
      ]
     },
     "metadata": {},
     "output_type": "display_data"
    },
    {
     "data": {
      "application/vnd.jupyter.widget-view+json": {
       "model_id": "5bbf62f508f64805a08d9185002cd461",
       "version_major": 2,
       "version_minor": 0
      },
      "text/plain": [
       "  0%|          | 0/200 [00:00<?, ?it/s]"
      ]
     },
     "metadata": {},
     "output_type": "display_data"
    },
    {
     "data": {
      "application/vnd.jupyter.widget-view+json": {
       "model_id": "6b7a1ea445b2455c9f38c0631d277b53",
       "version_major": 2,
       "version_minor": 0
      },
      "text/plain": [
       "  0%|          | 0/200 [00:00<?, ?it/s]"
      ]
     },
     "metadata": {},
     "output_type": "display_data"
    },
    {
     "data": {
      "application/vnd.jupyter.widget-view+json": {
       "model_id": "012a8c267fbd4b8f96bf05d938fe21cc",
       "version_major": 2,
       "version_minor": 0
      },
      "text/plain": [
       "  0%|          | 0/200 [00:00<?, ?it/s]"
      ]
     },
     "metadata": {},
     "output_type": "display_data"
    },
    {
     "data": {
      "application/vnd.jupyter.widget-view+json": {
       "model_id": "1c3f15cbba4f4ff08411084a18d43e15",
       "version_major": 2,
       "version_minor": 0
      },
      "text/plain": [
       "  0%|          | 0/200 [00:00<?, ?it/s]"
      ]
     },
     "metadata": {},
     "output_type": "display_data"
    },
    {
     "data": {
      "application/vnd.jupyter.widget-view+json": {
       "model_id": "d491659ae4ee42078c7542dfb6ff6365",
       "version_major": 2,
       "version_minor": 0
      },
      "text/plain": [
       "  0%|          | 0/200 [00:00<?, ?it/s]"
      ]
     },
     "metadata": {},
     "output_type": "display_data"
    },
    {
     "data": {
      "application/vnd.jupyter.widget-view+json": {
       "model_id": "4eccadb38dc34107a8db96c3072af49f",
       "version_major": 2,
       "version_minor": 0
      },
      "text/plain": [
       "  0%|          | 0/200 [00:00<?, ?it/s]"
      ]
     },
     "metadata": {},
     "output_type": "display_data"
    },
    {
     "data": {
      "application/vnd.jupyter.widget-view+json": {
       "model_id": "21b11b8bc06a416a8ecffa66fcf878b4",
       "version_major": 2,
       "version_minor": 0
      },
      "text/plain": [
       "  0%|          | 0/200 [00:00<?, ?it/s]"
      ]
     },
     "metadata": {},
     "output_type": "display_data"
    },
    {
     "data": {
      "application/vnd.jupyter.widget-view+json": {
       "model_id": "c09aa0a8d53d4acabb023db82d2c06ce",
       "version_major": 2,
       "version_minor": 0
      },
      "text/plain": [
       "  0%|          | 0/200 [00:00<?, ?it/s]"
      ]
     },
     "metadata": {},
     "output_type": "display_data"
    },
    {
     "data": {
      "application/vnd.jupyter.widget-view+json": {
       "model_id": "b1e9f4b9319e485299382121e3732e09",
       "version_major": 2,
       "version_minor": 0
      },
      "text/plain": [
       "  0%|          | 0/200 [00:00<?, ?it/s]"
      ]
     },
     "metadata": {},
     "output_type": "display_data"
    },
    {
     "data": {
      "application/vnd.jupyter.widget-view+json": {
       "model_id": "0556fa1d74c64ddda3cd0a8240a789ce",
       "version_major": 2,
       "version_minor": 0
      },
      "text/plain": [
       "  0%|          | 0/200 [00:00<?, ?it/s]"
      ]
     },
     "metadata": {},
     "output_type": "display_data"
    },
    {
     "data": {
      "application/vnd.jupyter.widget-view+json": {
       "model_id": "857037ad1b3048cbbd7ee243e844d193",
       "version_major": 2,
       "version_minor": 0
      },
      "text/plain": [
       "  0%|          | 0/200 [00:00<?, ?it/s]"
      ]
     },
     "metadata": {},
     "output_type": "display_data"
    },
    {
     "data": {
      "application/vnd.jupyter.widget-view+json": {
       "model_id": "7a3990f7e081491a8f44ce797e038df0",
       "version_major": 2,
       "version_minor": 0
      },
      "text/plain": [
       "  0%|          | 0/200 [00:00<?, ?it/s]"
      ]
     },
     "metadata": {},
     "output_type": "display_data"
    },
    {
     "data": {
      "application/vnd.jupyter.widget-view+json": {
       "model_id": "347d4dedcadc4c5cbf1c71858473df39",
       "version_major": 2,
       "version_minor": 0
      },
      "text/plain": [
       "  0%|          | 0/200 [00:00<?, ?it/s]"
      ]
     },
     "metadata": {},
     "output_type": "display_data"
    },
    {
     "data": {
      "application/vnd.jupyter.widget-view+json": {
       "model_id": "3243d9a76620455dbf36028cd777308f",
       "version_major": 2,
       "version_minor": 0
      },
      "text/plain": [
       "  0%|          | 0/200 [00:00<?, ?it/s]"
      ]
     },
     "metadata": {},
     "output_type": "display_data"
    },
    {
     "data": {
      "application/vnd.jupyter.widget-view+json": {
       "model_id": "18324782a64e45a59b2051aef09a576a",
       "version_major": 2,
       "version_minor": 0
      },
      "text/plain": [
       "  0%|          | 0/200 [00:00<?, ?it/s]"
      ]
     },
     "metadata": {},
     "output_type": "display_data"
    }
   ],
   "source": [
    "for i, j in tqdm.tqdm(product(range(5), range(5)), total=25):\n",
    "    dense_network = DenseNetwork(\n",
    "        in_features=in_features, hidden_size=hidden_size, \n",
    "        n_classes=n_classes, n_layers=4, activation=ReLU\n",
    "    ).to(device)\n",
    "    dense_network.apply(partial(initialize_module, init=init_vars[i]))\n",
    "    optimizer = torch.optim.LBFGS(dense_network.parameters(), max_iter=1)\n",
    "    loss_fn = CrossEntropyLoss()\n",
    "    \n",
    "    _, _, train_accs, test_accs = training_loop(\n",
    "        n_epochs=200, network=dense_network, loss_fn=loss_fn, \n",
    "        optimizer=optimizer, ds_train=(X_train, y_train), ds_test=(X_test, y_test), device=device\n",
    "    )\n",
    "\n",
    "    accs_train[i, j], accs_test[i, j] = train_accs[-1], test_accs[-1]"
   ]
  },
  {
   "cell_type": "markdown",
   "metadata": {},
   "source": [
    "Построим боксплоты полученного качества (горизонтальная линия в каждом столбце — среднее, прямоугольник показывает разброс)."
   ]
  },
  {
   "cell_type": "code",
   "execution_count": 42,
   "metadata": {
    "ExecuteTime": {
     "end_time": "2022-09-05T01:21:40.766898Z",
     "start_time": "2022-09-05T01:21:40.640899Z"
    }
   },
   "outputs": [
    {
     "data": {
      "image/png": "[encoded data removed]",
      "text/plain": [
       "<Figure size 1000x500 with 1 Axes>"
      ]
     },
     "metadata": {},
     "output_type": "display_data"
    }
   ],
   "source": [
    "init_vars_for_plot = [(x if isinstance(x, str) else fr\"$\\sigma = {x}$\") for x in init_vars]\n",
    "\n",
    "fig, ax = plt.subplots(1, 1, figsize=(10, 5))\n",
    "\n",
    "ax.boxplot(accs_test.T, labels=init_vars_for_plot, showfliers=False)\n",
    "\n",
    "ax.set_title(\"Test quality in 5 runs\")\n",
    "ax.set_xlabel(\"Initialization\")\n",
    "ax.set_ylabel(\"Test accuracy\")\n",
    "ax.grid(True)\n",
    "\n",
    "fig.tight_layout()\n",
    "plt.show()"
   ]
  },
  {
   "cell_type": "code",
   "execution_count": 43,
   "metadata": {},
   "outputs": [
    {
     "data": {
      "image/png": "[encoded data removed]",
      "text/plain": [
       "<Figure size 1000x500 with 1 Axes>"
      ]
     },
     "metadata": {},
     "output_type": "display_data"
    }
   ],
   "source": [
    "init_vars_for_plot = [(x if isinstance(x, str) else fr\"$\\sigma = {x}$\") for x in init_vars]\n",
    "\n",
    "fig, ax = plt.subplots(1, 1, figsize=(10, 5))\n",
    "\n",
    "ax.boxplot(accs_test.T[:,1:], labels=init_vars_for_plot[1:], showfliers=False)\n",
    "\n",
    "ax.set_title(\"Test quality in 5 runs\")\n",
    "ax.set_xlabel(\"Initialization\")\n",
    "ax.set_ylabel(\"Test accuracy\")\n",
    "ax.grid(True)\n",
    "\n",
    "fig.tight_layout()\n",
    "plt.show()"
   ]
  },
  {
   "cell_type": "markdown",
   "metadata": {},
   "source": [
    "### 5 слоев\n",
    "\n",
    "Выполним код, что и в предыдущем пункте, но только уже с $5$ слоями в сети."
   ]
  },
  {
   "cell_type": "code",
   "execution_count": 44,
   "metadata": {
    "ExecuteTime": {
     "end_time": "2022-09-05T01:21:40.782898Z",
     "start_time": "2022-09-05T01:21:40.767899Z"
    }
   },
   "outputs": [],
   "source": [
    "init_vars = [1e-3, 1e-2, 1e-1, 'Kaiming', 'Xavier']"
   ]
  },
  {
   "cell_type": "code",
   "execution_count": 45,
   "metadata": {
    "ExecuteTime": {
     "end_time": "2022-09-05T01:21:40.797898Z",
     "start_time": "2022-09-05T01:21:40.783900Z"
    }
   },
   "outputs": [],
   "source": [
    "accs_train = np.zeros((5, 5))\n",
    "accs_test = np.zeros((5, 5))"
   ]
  },
  {
   "cell_type": "code",
   "execution_count": 46,
   "metadata": {
    "ExecuteTime": {
     "end_time": "2022-09-05T01:22:34.087185Z",
     "start_time": "2022-09-05T01:21:40.798900Z"
    },
    "scrolled": true
   },
   "outputs": [
    {
     "data": {
      "application/vnd.jupyter.widget-view+json": {
       "model_id": "4f2aa1c2a29c4288bf55b42c4ddd9969",
       "version_major": 2,
       "version_minor": 0
      },
      "text/plain": [
       "  0%|          | 0/25 [00:00<?, ?it/s]"
      ]
     },
     "metadata": {},
     "output_type": "display_data"
    },
    {
     "data": {
      "application/vnd.jupyter.widget-view+json": {
       "model_id": "ee9cac582d8b49548f4be13a4bfc7265",
       "version_major": 2,
       "version_minor": 0
      },
      "text/plain": [
       "  0%|          | 0/200 [00:00<?, ?it/s]"
      ]
     },
     "metadata": {},
     "output_type": "display_data"
    },
    {
     "data": {
      "application/vnd.jupyter.widget-view+json": {
       "model_id": "ec8633c3b8b941bb9b8216bbbee536b0",
       "version_major": 2,
       "version_minor": 0
      },
      "text/plain": [
       "  0%|          | 0/200 [00:00<?, ?it/s]"
      ]
     },
     "metadata": {},
     "output_type": "display_data"
    },
    {
     "data": {
      "application/vnd.jupyter.widget-view+json": {
       "model_id": "89382cc1be72425b9b84ef5aafd1b04e",
       "version_major": 2,
       "version_minor": 0
      },
      "text/plain": [
       "  0%|          | 0/200 [00:00<?, ?it/s]"
      ]
     },
     "metadata": {},
     "output_type": "display_data"
    },
    {
     "data": {
      "application/vnd.jupyter.widget-view+json": {
       "model_id": "89e0cf5c832142869255101aaf0970e4",
       "version_major": 2,
       "version_minor": 0
      },
      "text/plain": [
       "  0%|          | 0/200 [00:00<?, ?it/s]"
      ]
     },
     "metadata": {},
     "output_type": "display_data"
    },
    {
     "data": {
      "application/vnd.jupyter.widget-view+json": {
       "model_id": "d040c42d3e984fa08a97ee79f26875fd",
       "version_major": 2,
       "version_minor": 0
      },
      "text/plain": [
       "  0%|          | 0/200 [00:00<?, ?it/s]"
      ]
     },
     "metadata": {},
     "output_type": "display_data"
    },
    {
     "data": {
      "application/vnd.jupyter.widget-view+json": {
       "model_id": "96e9248a5c934d0dab5380a172a9ff60",
       "version_major": 2,
       "version_minor": 0
      },
      "text/plain": [
       "  0%|          | 0/200 [00:00<?, ?it/s]"
      ]
     },
     "metadata": {},
     "output_type": "display_data"
    },
    {
     "data": {
      "application/vnd.jupyter.widget-view+json": {
       "model_id": "4c902ffdf5894dd9b6cc803bb87a79f3",
       "version_major": 2,
       "version_minor": 0
      },
      "text/plain": [
       "  0%|          | 0/200 [00:00<?, ?it/s]"
      ]
     },
     "metadata": {},
     "output_type": "display_data"
    },
    {
     "data": {
      "application/vnd.jupyter.widget-view+json": {
       "model_id": "84f8f656c6314e7b962a2d9e8aacd9ab",
       "version_major": 2,
       "version_minor": 0
      },
      "text/plain": [
       "  0%|          | 0/200 [00:00<?, ?it/s]"
      ]
     },
     "metadata": {},
     "output_type": "display_data"
    },
    {
     "data": {
      "application/vnd.jupyter.widget-view+json": {
       "model_id": "6c7642488d6a49d3be7a857778723130",
       "version_major": 2,
       "version_minor": 0
      },
      "text/plain": [
       "  0%|          | 0/200 [00:00<?, ?it/s]"
      ]
     },
     "metadata": {},
     "output_type": "display_data"
    },
    {
     "data": {
      "application/vnd.jupyter.widget-view+json": {
       "model_id": "13357fc787fb488f91481315a7faa9b5",
       "version_major": 2,
       "version_minor": 0
      },
      "text/plain": [
       "  0%|          | 0/200 [00:00<?, ?it/s]"
      ]
     },
     "metadata": {},
     "output_type": "display_data"
    },
    {
     "data": {
      "application/vnd.jupyter.widget-view+json": {
       "model_id": "61000511eb1f4b098b5f1068d4a3e11a",
       "version_major": 2,
       "version_minor": 0
      },
      "text/plain": [
       "  0%|          | 0/200 [00:00<?, ?it/s]"
      ]
     },
     "metadata": {},
     "output_type": "display_data"
    },
    {
     "data": {
      "application/vnd.jupyter.widget-view+json": {
       "model_id": "45e0864bb0e541beb53e2075382ac87c",
       "version_major": 2,
       "version_minor": 0
      },
      "text/plain": [
       "  0%|          | 0/200 [00:00<?, ?it/s]"
      ]
     },
     "metadata": {},
     "output_type": "display_data"
    },
    {
     "data": {
      "application/vnd.jupyter.widget-view+json": {
       "model_id": "45a6722cb2b84807a58e051621ae86c3",
       "version_major": 2,
       "version_minor": 0
      },
      "text/plain": [
       "  0%|          | 0/200 [00:00<?, ?it/s]"
      ]
     },
     "metadata": {},
     "output_type": "display_data"
    },
    {
     "data": {
      "application/vnd.jupyter.widget-view+json": {
       "model_id": "cb94e7f5a57d48179f75686393d088c6",
       "version_major": 2,
       "version_minor": 0
      },
      "text/plain": [
       "  0%|          | 0/200 [00:00<?, ?it/s]"
      ]
     },
     "metadata": {},
     "output_type": "display_data"
    },
    {
     "data": {
      "application/vnd.jupyter.widget-view+json": {
       "model_id": "ffef4a0ee3634d8eac5458b36c7a6656",
       "version_major": 2,
       "version_minor": 0
      },
      "text/plain": [
       "  0%|          | 0/200 [00:00<?, ?it/s]"
      ]
     },
     "metadata": {},
     "output_type": "display_data"
    },
    {
     "data": {
      "application/vnd.jupyter.widget-view+json": {
       "model_id": "fd8fa699c6b94962b53f789fbc4c142b",
       "version_major": 2,
       "version_minor": 0
      },
      "text/plain": [
       "  0%|          | 0/200 [00:00<?, ?it/s]"
      ]
     },
     "metadata": {},
     "output_type": "display_data"
    },
    {
     "data": {
      "application/vnd.jupyter.widget-view+json": {
       "model_id": "f4310424ef24469d962d4f953af67e4b",
       "version_major": 2,
       "version_minor": 0
      },
      "text/plain": [
       "  0%|          | 0/200 [00:00<?, ?it/s]"
      ]
     },
     "metadata": {},
     "output_type": "display_data"
    },
    {
     "data": {
      "application/vnd.jupyter.widget-view+json": {
       "model_id": "8610c43886434b188b8f1e83008323f6",
       "version_major": 2,
       "version_minor": 0
      },
      "text/plain": [
       "  0%|          | 0/200 [00:00<?, ?it/s]"
      ]
     },
     "metadata": {},
     "output_type": "display_data"
    },
    {
     "data": {
      "application/vnd.jupyter.widget-view+json": {
       "model_id": "e29abaeb2424494bac898a5b518afb86",
       "version_major": 2,
       "version_minor": 0
      },
      "text/plain": [
       "  0%|          | 0/200 [00:00<?, ?it/s]"
      ]
     },
     "metadata": {},
     "output_type": "display_data"
    },
    {
     "data": {
      "application/vnd.jupyter.widget-view+json": {
       "model_id": "8f22a9cb39644e39a0a8a3ebe6bc75a3",
       "version_major": 2,
       "version_minor": 0
      },
      "text/plain": [
       "  0%|          | 0/200 [00:00<?, ?it/s]"
      ]
     },
     "metadata": {},
     "output_type": "display_data"
    },
    {
     "data": {
      "application/vnd.jupyter.widget-view+json": {
       "model_id": "28579e87e6d34abcb155f61bed73888f",
       "version_major": 2,
       "version_minor": 0
      },
      "text/plain": [
       "  0%|          | 0/200 [00:00<?, ?it/s]"
      ]
     },
     "metadata": {},
     "output_type": "display_data"
    },
    {
     "data": {
      "application/vnd.jupyter.widget-view+json": {
       "model_id": "f0590724160b465093a12021d5b592ed",
       "version_major": 2,
       "version_minor": 0
      },
      "text/plain": [
       "  0%|          | 0/200 [00:00<?, ?it/s]"
      ]
     },
     "metadata": {},
     "output_type": "display_data"
    },
    {
     "data": {
      "application/vnd.jupyter.widget-view+json": {
       "model_id": "5b2412a392134a4d96fde014959ebedf",
       "version_major": 2,
       "version_minor": 0
      },
      "text/plain": [
       "  0%|          | 0/200 [00:00<?, ?it/s]"
      ]
     },
     "metadata": {},
     "output_type": "display_data"
    },
    {
     "data": {
      "application/vnd.jupyter.widget-view+json": {
       "model_id": "afa7c8a10da0409aa3f8f6a9abe481af",
       "version_major": 2,
       "version_minor": 0
      },
      "text/plain": [
       "  0%|          | 0/200 [00:00<?, ?it/s]"
      ]
     },
     "metadata": {},
     "output_type": "display_data"
    },
    {
     "data": {
      "application/vnd.jupyter.widget-view+json": {
       "model_id": "97ad96ab5a5d4ad19f27b40404e5129c",
       "version_major": 2,
       "version_minor": 0
      },
      "text/plain": [
       "  0%|          | 0/200 [00:00<?, ?it/s]"
      ]
     },
     "metadata": {},
     "output_type": "display_data"
    }
   ],
   "source": [
    "for i, j in tqdm.tqdm(product(range(5), range(5)), total=25):\n",
    "    dense_network = DenseNetwork(\n",
    "        in_features=in_features, hidden_size=hidden_size, \n",
    "        n_classes=n_classes, n_layers=5, activation=ReLU\n",
    "    ).to(device)\n",
    "    dense_network.apply(partial(initialize_module, init=init_vars[i]))\n",
    "    optimizer = torch.optim.LBFGS(dense_network.parameters(), max_iter=1)\n",
    "    loss_fn = CrossEntropyLoss()\n",
    "    \n",
    "    _, _, train_accs, test_accs = training_loop(\n",
    "        n_epochs=200, network=dense_network, loss_fn=loss_fn, \n",
    "        optimizer=optimizer, ds_train=(X_train, y_train), ds_test=(X_test, y_test), device=device\n",
    "    )\n",
    "\n",
    "    accs_train[i, j], accs_test[i, j] = train_accs[-1], test_accs[-1]"
   ]
  },
  {
   "cell_type": "markdown",
   "metadata": {},
   "source": [
    "Построим боксплоты полученного качества (горизонтальная линия в каждом столбце — среднее, прямоугольник показывает разброс)."
   ]
  },
  {
   "cell_type": "code",
   "execution_count": 47,
   "metadata": {
    "ExecuteTime": {
     "end_time": "2022-09-05T01:22:34.204962Z",
     "start_time": "2022-09-05T01:22:34.087185Z"
    }
   },
   "outputs": [
    {
     "data": {
      "image/png": "[encoded data removed]",
      "text/plain": [
       "<Figure size 1000x500 with 1 Axes>"
      ]
     },
     "metadata": {},
     "output_type": "display_data"
    }
   ],
   "source": [
    "init_vars_for_plot = [(x if isinstance(x, str) else fr\"$\\sigma = {x}$\") for x in init_vars]\n",
    "\n",
    "fig, ax = plt.subplots(1, 1, figsize=(10, 5))\n",
    "\n",
    "ax.boxplot(accs_test.T, labels=init_vars_for_plot, showfliers=False)\n",
    "\n",
    "ax.set_title(\"Test quality in 5 runs\")\n",
    "ax.set_xlabel(\"Initialization\")\n",
    "ax.set_ylabel(\"Test accuracy\")\n",
    "ax.grid(True)\n",
    "\n",
    "fig.tight_layout()\n",
    "plt.show()"
   ]
  },
  {
   "cell_type": "code",
   "execution_count": 48,
   "metadata": {},
   "outputs": [
    {
     "data": {
      "image/png": "[encoded data removed]",
      "text/plain": [
       "<Figure size 1000x500 with 1 Axes>"
      ]
     },
     "metadata": {},
     "output_type": "display_data"
    }
   ],
   "source": [
    "init_vars_for_plot = [(x if isinstance(x, str) else fr\"$\\sigma = {x}$\") for x in init_vars]\n",
    "\n",
    "fig, ax = plt.subplots(1, 1, figsize=(10, 5))\n",
    "\n",
    "ax.boxplot(accs_test.T[:,1:], labels=init_vars_for_plot[1:], showfliers=False)\n",
    "\n",
    "ax.set_title(\"Test quality in 5 runs\")\n",
    "ax.set_xlabel(\"Initialization\")\n",
    "ax.set_ylabel(\"Test accuracy\")\n",
    "ax.grid(True)\n",
    "\n",
    "fig.tight_layout()\n",
    "plt.show()"
   ]
  },
  {
   "cell_type": "markdown",
   "metadata": {},
   "source": [
    "Дайте развёрнутый ответ на вопросы (в этой же ячейке):\n",
    "* Как отличаются на контроле качество и устойчивость процесса обучения при различных инициализациях?\n",
    "* Какие инициализации помогают обучать более глубокие сети?\n",
    "\n",
    "__Ответы:__\n",
    "\n",
    "1. Все варианты имеют примерно одинаковую устойчивость, но по качеству располагаются в порядке `Xavier, Kaiming, `$\\sigma$ `= 0.1, `$\\sigma$ `= 0.01, `$\\sigma$ `= 0.001` в сетях более чем с тремя слоями.\n",
    "2. Все инициализации кроме варианта $\\sigma$ `= 0.001` подходят для обучения глубоких сетей, судя по сохраняющемуся примерно на одном месте среднему."
   ]
  },
  {
   "cell_type": "markdown",
   "metadata": {},
   "source": [
    "Теперь сравним скорость обучения при различных инициализациях. Создайте два списка списков `accs_test_on_iterations`, `accs_train_on_iterations` в каждом из которых в позиции `[i]` (см. описание `i` в предыдущем пункте) будет лежать список из значений `accuracy` на тестовой и обучающей выборках соответственно, полученных во время обучения модели. Количество слоев в сети зафиксируйте равным 4."
   ]
  },
  {
   "cell_type": "code",
   "execution_count": 49,
   "metadata": {
    "ExecuteTime": {
     "end_time": "2022-09-05T01:22:34.220587Z",
     "start_time": "2022-09-05T01:22:34.204962Z"
    }
   },
   "outputs": [],
   "source": [
    "init_vars = [5e-3, 1e-2, 1e-1, 'Kaiming', 'Xavier']"
   ]
  },
  {
   "cell_type": "code",
   "execution_count": 50,
   "metadata": {
    "ExecuteTime": {
     "end_time": "2022-09-05T01:22:42.556167Z",
     "start_time": "2022-09-05T01:22:34.220587Z"
    },
    "code_folding": []
   },
   "outputs": [
    {
     "data": {
      "application/vnd.jupyter.widget-view+json": {
       "model_id": "41c1d1062f31488583e1a13c1c7a396a",
       "version_major": 2,
       "version_minor": 0
      },
      "text/plain": [
       "  0%|          | 0/200 [00:00<?, ?it/s]"
      ]
     },
     "metadata": {},
     "output_type": "display_data"
    },
    {
     "data": {
      "application/vnd.jupyter.widget-view+json": {
       "model_id": "820315ca5bf740ccb60671063e0f08f4",
       "version_major": 2,
       "version_minor": 0
      },
      "text/plain": [
       "  0%|          | 0/200 [00:00<?, ?it/s]"
      ]
     },
     "metadata": {},
     "output_type": "display_data"
    },
    {
     "data": {
      "application/vnd.jupyter.widget-view+json": {
       "model_id": "10e594c426d2463ea50d323240af8f3f",
       "version_major": 2,
       "version_minor": 0
      },
      "text/plain": [
       "  0%|          | 0/200 [00:00<?, ?it/s]"
      ]
     },
     "metadata": {},
     "output_type": "display_data"
    },
    {
     "data": {
      "application/vnd.jupyter.widget-view+json": {
       "model_id": "11cb5c6f0e1f4088ad158baa00e155bb",
       "version_major": 2,
       "version_minor": 0
      },
      "text/plain": [
       "  0%|          | 0/200 [00:00<?, ?it/s]"
      ]
     },
     "metadata": {},
     "output_type": "display_data"
    },
    {
     "data": {
      "application/vnd.jupyter.widget-view+json": {
       "model_id": "d64dc157e22a429a8619d0389a821dd7",
       "version_major": 2,
       "version_minor": 0
      },
      "text/plain": [
       "  0%|          | 0/200 [00:00<?, ?it/s]"
      ]
     },
     "metadata": {},
     "output_type": "display_data"
    }
   ],
   "source": [
    "accs_test_on_iterations = []\n",
    "accs_train_on_iterations = []\n",
    "\n",
    "for i in range(5):\n",
    "    dense_network = DenseNetwork(\n",
    "        in_features=in_features, hidden_size=hidden_size, \n",
    "        n_classes=n_classes, n_layers=4, activation=ReLU\n",
    "    ).to(device)\n",
    "    dense_network.apply(partial(initialize_module, init=init_vars[i]))\n",
    "    optimizer = torch.optim.LBFGS(dense_network.parameters(), max_iter=1)\n",
    "    loss_fn = CrossEntropyLoss()\n",
    "    \n",
    "    _, _, train_accs, test_accs = training_loop(\n",
    "        n_epochs=200, network=dense_network, loss_fn=loss_fn, \n",
    "        optimizer=optimizer, ds_train=(X_train, y_train), ds_test=(X_test, y_test), device=device\n",
    "    )\n",
    "\n",
    "    accs_test_on_iterations.append(test_accs)\n",
    "    accs_train_on_iterations.append(train_accs)"
   ]
  },
  {
   "cell_type": "code",
   "execution_count": 51,
   "metadata": {
    "ExecuteTime": {
     "end_time": "2022-09-05T01:22:42.749549Z",
     "start_time": "2022-09-05T01:22:42.557168Z"
    }
   },
   "outputs": [
    {
     "data": {
      "image/png": "[encoded data removed]",
      "text/plain": [
       "<Figure size 1000x500 with 1 Axes>"
      ]
     },
     "metadata": {},
     "output_type": "display_data"
    }
   ],
   "source": [
    "fig, ax = plt.subplots(1, 1, figsize=(10, 5))\n",
    "\n",
    "for idx, label in enumerate(init_vars_for_plot):\n",
    "    ax.plot(range(1, 201), accs_test_on_iterations[idx], label=label)\n",
    "\n",
    "ax.set_title(\"Test quality for different initializations\")\n",
    "ax.set_xlabel(\"Epoch number\")\n",
    "ax.set_ylabel(\"Test accuracy\")\n",
    "ax.grid(True)\n",
    "ax.legend()\n",
    "\n",
    "fig.tight_layout()\n",
    "plt.show()"
   ]
  },
  {
   "cell_type": "markdown",
   "metadata": {
    "ExecuteTime": {
     "end_time": "2021-03-03T14:37:15.087902Z",
     "start_time": "2021-03-03T14:37:15.065996Z"
    }
   },
   "source": [
    "Дайте развёрнутый ответ на вопросы (в этой же ячейке):\n",
    "* Как меняется скорость обучения в зависимости от выбранной инициализации?\n",
    "\n",
    "__Ответы:__\n",
    "\n",
    "* Три лучших по точности варианта из предыдущих экспериментов имеют примерно одинаковую наилучшую скорость обучения, что ожидаемо, оставшиеся варианты располагаются так же как и в прошлом эксперименте - вариант $\\sigma = 0.001$ занимает последнее место."
   ]
  },
  {
   "cell_type": "markdown",
   "metadata": {},
   "source": [
    "## Эксперименты c различными функциями активации. [Кросспроверка. 2 балла]"
   ]
  },
  {
   "cell_type": "markdown",
   "metadata": {},
   "source": [
    "Проверим теперь, с какой функцией активации нейронная сеть будет обучаться лучше.\n",
    "\n",
    "В этом пункте вам предлагается попробовать обучить несколько нейронных сетей с различными функциями активации.\n",
    "\n",
    "Для этого нам нужно реализовать еще $2$ слоя: для функций активации `Tanh` и `Sigmoid`."
   ]
  },
  {
   "cell_type": "code",
   "execution_count": 52,
   "metadata": {
    "ExecuteTime": {
     "end_time": "2022-09-05T01:22:42.765172Z",
     "start_time": "2022-09-05T01:22:42.749549Z"
    }
   },
   "outputs": [],
   "source": [
    "class Tanh(torch.nn.Module):\n",
    "    def __init__(self):\n",
    "        \"\"\"\n",
    "        tanh(y) = (e^y - e^(-y)) / (e^y + e^(-y))\n",
    "        Используйте функцию torch.tanh для подсчета гиперболического тангенса.\n",
    "        Вы можете сами реализовать подсчет tanh, но тогда вам нужно устойчиво его вычислять.\n",
    "        \"\"\"\n",
    "        super().__init__()\n",
    "        \n",
    "\n",
    "    def forward(self, x: torch.Tensor) -> torch.Tensor:\n",
    "        \"\"\"\n",
    "        Поэлементное применение Tanh\n",
    "        \"\"\"\n",
    "        return torch.tanh(x)\n",
    "\n",
    "    def __repr__(self):\n",
    "        return 'Tanh()'"
   ]
  },
  {
   "cell_type": "code",
   "execution_count": 53,
   "metadata": {
    "ExecuteTime": {
     "end_time": "2022-09-05T01:22:42.780335Z",
     "start_time": "2022-09-05T01:22:42.765172Z"
    }
   },
   "outputs": [],
   "source": [
    "class Sigmoid(torch.nn.Module):\n",
    "    def __init__(self):\n",
    "        \"\"\"\n",
    "        sigmoid(y) = 1 / (1 + e^(-y))\n",
    "        Используйте функцию torch.special.expit для подсчета сигмоиды.\n",
    "        Вы можете сами реализовать подсчет сигмоиды, но тогда вам нужно устойчиво ее вычислять.\n",
    "        \"\"\"\n",
    "        super().__init__()\n",
    "        \n",
    "\n",
    "    def forward(self, x: torch.Tensor) -> torch.Tensor:\n",
    "        \"\"\"\n",
    "        Поэлементное применение Sigmoid\n",
    "        \"\"\"\n",
    "        return torch.sigmoid(x)\n",
    "\n",
    "    def __repr__(self):\n",
    "        return 'Sigmoid()'"
   ]
  },
  {
   "cell_type": "markdown",
   "metadata": {},
   "source": [
    "Теперь попробуем для каждой из 3 функций активации обучить нейронную сеть несколько раз. Число слоев зафиксируйте равным $3$. В случае `Tanh` и `Sigmoid` используйте инициализацию `Xavier`, а в случае `ReLU` используйте инициализацию `Kaiming`."
   ]
  },
  {
   "cell_type": "markdown",
   "metadata": {},
   "source": [
    "Заполним матрицы `accs_train` и `accs_test`. В позиции `[i, j]` должна стоять величина доли правильных ответов сети при $j$-м запуске (все запуски идентичны) с функцией активации $ReLU$ при $i = 0$, с функцией активации $Tanh$ при $i = 1$ и с функцией активации $Sigmoid$ при $i = 2$."
   ]
  },
  {
   "cell_type": "code",
   "execution_count": 54,
   "metadata": {
    "ExecuteTime": {
     "end_time": "2022-09-05T01:22:42.796335Z",
     "start_time": "2022-09-05T01:22:42.781335Z"
    }
   },
   "outputs": [],
   "source": [
    "act_func_vars = [ReLU, Tanh, Sigmoid]\n",
    "init_for_act_funcs = ['Kaiming', 'Xavier', 'Xavier']"
   ]
  },
  {
   "cell_type": "code",
   "execution_count": 55,
   "metadata": {
    "ExecuteTime": {
     "end_time": "2022-09-05T01:22:42.823978Z",
     "start_time": "2022-09-05T01:22:42.797337Z"
    }
   },
   "outputs": [],
   "source": [
    "accs_train = np.zeros((3, 5))\n",
    "accs_test = np.zeros((3, 5))"
   ]
  },
  {
   "cell_type": "code",
   "execution_count": 56,
   "metadata": {
    "ExecuteTime": {
     "end_time": "2022-09-05T01:23:27.100429Z",
     "start_time": "2022-09-05T01:22:42.823978Z"
    }
   },
   "outputs": [
    {
     "data": {
      "application/vnd.jupyter.widget-view+json": {
       "model_id": "087978891cc54674abdcb2a59f74c693",
       "version_major": 2,
       "version_minor": 0
      },
      "text/plain": [
       "  0%|          | 0/15 [00:00<?, ?it/s]"
      ]
     },
     "metadata": {},
     "output_type": "display_data"
    },
    {
     "data": {
      "application/vnd.jupyter.widget-view+json": {
       "model_id": "ae140657e26d46d28c654112a2b5e063",
       "version_major": 2,
       "version_minor": 0
      },
      "text/plain": [
       "  0%|          | 0/200 [00:00<?, ?it/s]"
      ]
     },
     "metadata": {},
     "output_type": "display_data"
    },
    {
     "data": {
      "application/vnd.jupyter.widget-view+json": {
       "model_id": "a57158c789c34c38bb1b372fbfffd88e",
       "version_major": 2,
       "version_minor": 0
      },
      "text/plain": [
       "  0%|          | 0/200 [00:00<?, ?it/s]"
      ]
     },
     "metadata": {},
     "output_type": "display_data"
    },
    {
     "data": {
      "application/vnd.jupyter.widget-view+json": {
       "model_id": "c99d42ba703444e5a2abedfd8ec7402a",
       "version_major": 2,
       "version_minor": 0
      },
      "text/plain": [
       "  0%|          | 0/200 [00:00<?, ?it/s]"
      ]
     },
     "metadata": {},
     "output_type": "display_data"
    },
    {
     "data": {
      "application/vnd.jupyter.widget-view+json": {
       "model_id": "b80614e06a70471eb3976062c6a88d04",
       "version_major": 2,
       "version_minor": 0
      },
      "text/plain": [
       "  0%|          | 0/200 [00:00<?, ?it/s]"
      ]
     },
     "metadata": {},
     "output_type": "display_data"
    },
    {
     "data": {
      "application/vnd.jupyter.widget-view+json": {
       "model_id": "e52fa2e725f6441eb9ed1c980ce4a6ac",
       "version_major": 2,
       "version_minor": 0
      },
      "text/plain": [
       "  0%|          | 0/200 [00:00<?, ?it/s]"
      ]
     },
     "metadata": {},
     "output_type": "display_data"
    },
    {
     "data": {
      "application/vnd.jupyter.widget-view+json": {
       "model_id": "d8abbe1e933e41fb8f01b4583867a527",
       "version_major": 2,
       "version_minor": 0
      },
      "text/plain": [
       "  0%|          | 0/200 [00:00<?, ?it/s]"
      ]
     },
     "metadata": {},
     "output_type": "display_data"
    },
    {
     "data": {
      "application/vnd.jupyter.widget-view+json": {
       "model_id": "7319854722f546f19e7743f7f999a2f9",
       "version_major": 2,
       "version_minor": 0
      },
      "text/plain": [
       "  0%|          | 0/200 [00:00<?, ?it/s]"
      ]
     },
     "metadata": {},
     "output_type": "display_data"
    },
    {
     "data": {
      "application/vnd.jupyter.widget-view+json": {
       "model_id": "257212fb728d45a8b2f65cfb475eab14",
       "version_major": 2,
       "version_minor": 0
      },
      "text/plain": [
       "  0%|          | 0/200 [00:00<?, ?it/s]"
      ]
     },
     "metadata": {},
     "output_type": "display_data"
    },
    {
     "data": {
      "application/vnd.jupyter.widget-view+json": {
       "model_id": "009102cf3d43422093baa174b65f11e1",
       "version_major": 2,
       "version_minor": 0
      },
      "text/plain": [
       "  0%|          | 0/200 [00:00<?, ?it/s]"
      ]
     },
     "metadata": {},
     "output_type": "display_data"
    },
    {
     "data": {
      "application/vnd.jupyter.widget-view+json": {
       "model_id": "5e11a388b0df48c9870307784d7cafd4",
       "version_major": 2,
       "version_minor": 0
      },
      "text/plain": [
       "  0%|          | 0/200 [00:00<?, ?it/s]"
      ]
     },
     "metadata": {},
     "output_type": "display_data"
    },
    {
     "data": {
      "application/vnd.jupyter.widget-view+json": {
       "model_id": "d797d9d4244648aea7e8d74e164c5912",
       "version_major": 2,
       "version_minor": 0
      },
      "text/plain": [
       "  0%|          | 0/200 [00:00<?, ?it/s]"
      ]
     },
     "metadata": {},
     "output_type": "display_data"
    },
    {
     "data": {
      "application/vnd.jupyter.widget-view+json": {
       "model_id": "943c5d5f97f943328f0f5b1d45c44cd5",
       "version_major": 2,
       "version_minor": 0
      },
      "text/plain": [
       "  0%|          | 0/200 [00:00<?, ?it/s]"
      ]
     },
     "metadata": {},
     "output_type": "display_data"
    },
    {
     "data": {
      "application/vnd.jupyter.widget-view+json": {
       "model_id": "2b3ccb42eb76474d958651e498ec1287",
       "version_major": 2,
       "version_minor": 0
      },
      "text/plain": [
       "  0%|          | 0/200 [00:00<?, ?it/s]"
      ]
     },
     "metadata": {},
     "output_type": "display_data"
    },
    {
     "data": {
      "application/vnd.jupyter.widget-view+json": {
       "model_id": "ee69c7f0ebbb4fffad0b5da6119440cd",
       "version_major": 2,
       "version_minor": 0
      },
      "text/plain": [
       "  0%|          | 0/200 [00:00<?, ?it/s]"
      ]
     },
     "metadata": {},
     "output_type": "display_data"
    },
    {
     "data": {
      "application/vnd.jupyter.widget-view+json": {
       "model_id": "52be1908c1574fe7b63f6b65ebe61788",
       "version_major": 2,
       "version_minor": 0
      },
      "text/plain": [
       "  0%|          | 0/200 [00:00<?, ?it/s]"
      ]
     },
     "metadata": {},
     "output_type": "display_data"
    }
   ],
   "source": [
    "for i, j in tqdm.tqdm(product(range(3), range(5)), total=3 * 5):\n",
    "    dense_network = DenseNetwork(\n",
    "        in_features=in_features, hidden_size=hidden_size, \n",
    "        n_classes=n_classes, n_layers=3, activation=act_func_vars[i]\n",
    "    ).to(device)\n",
    "    dense_network.apply(partial(initialize_module, init=init_for_act_funcs[i]))\n",
    "    optimizer = torch.optim.LBFGS(dense_network.parameters(), max_iter=1)\n",
    "    loss_fn = CrossEntropyLoss()\n",
    "    \n",
    "    _, _, train_accs, test_accs = training_loop(\n",
    "        n_epochs=200, network=dense_network, loss_fn=loss_fn, \n",
    "        optimizer=optimizer, ds_train=(X_train, y_train), ds_test=(X_test, y_test), device=device\n",
    "    )\n",
    "\n",
    "    accs_test[i, j] = test_accs[-1]\n",
    "    accs_train[i, j] = train_accs[-1]"
   ]
  },
  {
   "cell_type": "markdown",
   "metadata": {},
   "source": [
    "Построим боксплоты полученного качества (горизонтальная линия в каждом столбце — среднее, прямоугольник показывает разброс)."
   ]
  },
  {
   "cell_type": "code",
   "execution_count": 57,
   "metadata": {
    "ExecuteTime": {
     "end_time": "2022-09-05T01:23:27.191342Z",
     "start_time": "2022-09-05T01:23:27.100429Z"
    }
   },
   "outputs": [
    {
     "data": {
      "image/png": "[encoded data removed]",
      "text/plain": [
       "<Figure size 1000x500 with 1 Axes>"
      ]
     },
     "metadata": {},
     "output_type": "display_data"
    }
   ],
   "source": [
    "fig, ax = plt.subplots(1, 1, figsize=(10, 5))\n",
    "\n",
    "ax.boxplot(accs_test.T, labels=[i.__name__ for i in act_func_vars], showfliers=False)\n",
    "\n",
    "ax.set_title(\"Test quality in 5 runs\")\n",
    "ax.set_xlabel(\"Activation function\")\n",
    "ax.set_ylabel(\"Test accuracy\")\n",
    "ax.grid(True)\n",
    "\n",
    "fig.tight_layout()\n",
    "plt.show()"
   ]
  }
 ],
 "metadata": {
  "kernelspec": {
   "display_name": "Python 3 (ipykernel)",
   "language": "python",
   "name": "python3"
  },
  "language_info": {
   "codemirror_mode": {
    "name": "ipython",
    "version": 3
   },
   "file_extension": ".py",
   "mimetype": "text/x-python",
   "name": "python",
   "nbconvert_exporter": "python",
   "pygments_lexer": "ipython3",
   "version": "3.10.10"
  },
  "vscode": {
   "interpreter": {
    "hash": "dd83fef7db8fe0f3234bd7ae3724570198c9bedfba1d9d59d23fdade86380985"
   }
  }
 },
 "nbformat": 4,
 "nbformat_minor": 4
}
